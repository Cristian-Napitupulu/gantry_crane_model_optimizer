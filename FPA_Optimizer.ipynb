{
 "cells": [
  {
   "cell_type": "code",
   "execution_count": null,
   "metadata": {},
   "outputs": [],
   "source": [
    "import utility as ut\n",
    "import numpy as np\n",
    "import matplotlib.pyplot as plt\n",
    "import random\n",
    "import copy"
   ]
  },
  {
   "cell_type": "code",
   "execution_count": null,
   "metadata": {},
   "outputs": [],
   "source": [
    "# File paths\n",
    "DIRECTORY = \"data/\"\n",
    "GANTRY_CRANE_PARAMETERS_JSON_PATH = \"gantry_crane_parameters.json\"\n",
    "RESULTS_PATH = \"FPA_results/\""
   ]
  },
  {
   "cell_type": "code",
   "execution_count": null,
   "metadata": {},
   "outputs": [],
   "source": [
    "# Load data\n",
    "datasets = ut.load_excel_data(DIRECTORY)"
   ]
  },
  {
   "cell_type": "code",
   "execution_count": null,
   "metadata": {},
   "outputs": [],
   "source": [
    "DURATION = 15  # duration in seconds\n",
    "DT = 0.0001  # time increment in seconds\n",
    "# Create a time array\n",
    "time_array = np.arange(0, DURATION + DT, DT)\n",
    "NUM_STEPS = len(time_array)"
   ]
  },
  {
   "cell_type": "code",
   "execution_count": null,
   "metadata": {},
   "outputs": [],
   "source": [
    "interpolated_datasets = []\n",
    "for i in range(len(datasets)):\n",
    "    new_trolley_position = np.interp(\n",
    "        time_array, datasets[i][\"timestamp\"], datasets[i][\"trolley_position\"]\n",
    "    )\n",
    "    new_cable_length = np.interp(\n",
    "        time_array, datasets[i][\"timestamp\"], datasets[i][\"cable_length\"]\n",
    "    )\n",
    "    new_sway_angle = np.interp(\n",
    "        time_array, datasets[i][\"timestamp\"], datasets[i][\"sway_angle\"]\n",
    "    )\n",
    "    new_trolley_speed = np.interp(\n",
    "        time_array, datasets[i][\"timestamp\"], datasets[i][\"trolley_position_first_derivative\"]\n",
    "    )\n",
    "    new_cable_speed = np.interp(\n",
    "        time_array, datasets[i][\"timestamp\"], datasets[i][\"cable_length_first_derivative\"]\n",
    "    )\n",
    "    new_trolley_motor_pwm = np.interp(\n",
    "        time_array, datasets[i][\"timestamp\"], datasets[i][\"pwm_trolley_motor\"]\n",
    "    )\n",
    "    new_hoist_motor_pwm = np.interp(\n",
    "        time_array, datasets[i][\"timestamp\"], datasets[i][\"pwm_hoist_motor\"]\n",
    "    )\n",
    "    new_trolley_motor_voltage = np.interp(\n",
    "        time_array, datasets[i][\"timestamp\"], datasets[i][\"trolley_motor_voltage\"]\n",
    "    )\n",
    "    new_hoist_motor_voltage = np.interp(\n",
    "        time_array, datasets[i][\"timestamp\"], datasets[i][\"hoist_motor_voltage\"]\n",
    "    )\n",
    "\n",
    "    interpolated_df = {\n",
    "        \"time\": time_array,\n",
    "        \"trolley_position\": new_trolley_position,\n",
    "        \"cable_length\": new_cable_length,\n",
    "        \"sway_angle\": new_sway_angle,\n",
    "        \"trolley_speed\": new_trolley_speed,\n",
    "        \"cable_speed\": new_cable_speed,\n",
    "        \"trolley_motor_pwm\": new_trolley_motor_pwm,\n",
    "        \"hoist_motor_pwm\": new_hoist_motor_pwm,\n",
    "        \"trolley_motor_voltage\": new_trolley_motor_voltage,\n",
    "        \"hoist_motor_voltage\": new_hoist_motor_voltage,\n",
    "    }\n",
    "\n",
    "    interpolated_datasets.append(interpolated_df)\n",
    "\n",
    "print(len(interpolated_datasets))\n"
   ]
  },
  {
   "cell_type": "code",
   "execution_count": null,
   "metadata": {},
   "outputs": [],
   "source": [
    "max_sway_angle = 0\n",
    "for i in range(len(interpolated_datasets)):\n",
    "    max_sway_angle = max(\n",
    "        max_sway_angle, max(abs(interpolated_datasets[i][\"sway_angle\"]))\n",
    "    )\n",
    "\n",
    "# Sort the interpolated_datasets by average trolley motor PWM from lowest to highest and then by average hoist motor PWM from lowest to highest\n",
    "interpolated_datasets.sort(key=lambda x: np.mean(x[\"trolley_motor_pwm\"]))\n",
    "interpolated_datasets.sort(key=lambda x: np.mean(x[\"hoist_motor_pwm\"]))\n",
    "\n",
    "for key in interpolated_datasets[0]:\n",
    "    print(key)"
   ]
  },
  {
   "cell_type": "code",
   "execution_count": null,
   "metadata": {},
   "outputs": [],
   "source": [
    "USE_BEST_DATASET = True\n",
    "best_dataset = []\n",
    "if USE_BEST_DATASET:\n",
    "    for index in range(len(interpolated_datasets)):\n",
    "        if (index >= 9 and index <= 20) or (index >= 30):\n",
    "            continue\n",
    "        best_dataset.append(interpolated_datasets[index])\n",
    "    \n",
    "    interpolated_datasets = best_dataset"
   ]
  },
  {
   "cell_type": "code",
   "execution_count": null,
   "metadata": {},
   "outputs": [],
   "source": [
    "show_interpolated_datasets = True\n",
    "if show_interpolated_datasets:\n",
    "    for index, interpolated_dataset in enumerate(interpolated_datasets):\n",
    "        # if (index >= 9 and index <= 20) or (index >= 30):\n",
    "        #     continue\n",
    "        # Create a figure and a set of subplots\n",
    "        figure, ax = plt.subplots(4, 2, figsize=(14, 9), sharex=True)\n",
    "        figure.suptitle(f\"Interpolated Dataset {index+1}\", fontsize=16)\n",
    "        ut.add_to_subplot(ax[0, 0], interpolated_datasets[index][\"time\"], interpolated_datasets[index][\"trolley_motor_pwm\"], ylabel=\"PWM motor troli\", color=\"blue\")\n",
    "        ut.add_to_subplot(ax[0, 1], interpolated_datasets[index][\"time\"], interpolated_datasets[index][\"hoist_motor_pwm\"], ylabel=\"PWM motor angkut\", color=\"red\")\n",
    "        ut.add_to_subplot(ax[1, 0], interpolated_datasets[index][\"time\"], interpolated_datasets[index][\"trolley_motor_voltage\"], ylabel=\"Tegangan motor troli (V)\", color=\"blue\")\n",
    "        ut.add_to_subplot(ax[1, 1], interpolated_datasets[index][\"time\"], interpolated_datasets[index][\"hoist_motor_voltage\"], ylabel=\"Tegangan motor angkut (V)\", color=\"red\")\n",
    "        ut.add_to_subplot(ax[2, 0], interpolated_datasets[index][\"time\"], interpolated_datasets[index][\"trolley_position\"], ylabel=\"Posisi troli (m)\", color=\"green\")\n",
    "        ut.add_to_subplot(ax[2, 0], interpolated_datasets[index][\"time\"], interpolated_datasets[index][\"trolley_speed\"], ylabel=\"Kecepatan troli (m/s)\", color=\"green\", linestyle=\"--\")\n",
    "        ut.add_to_subplot(ax[2, 1], interpolated_datasets[index][\"time\"], interpolated_datasets[index][\"cable_length\"], ylabel=\"Panjang tali (m)\", color=\"orange\")\n",
    "        ut.add_to_subplot(ax[2, 1], interpolated_datasets[index][\"time\"], interpolated_datasets[index][\"cable_speed\"], ylabel=\"Kecepatan tali (m/s)\", color=\"orange\", linestyle=\"--\")\n",
    "        ut.add_to_subplot(ax[3, 0], interpolated_datasets[index][\"time\"], interpolated_datasets[index][\"sway_angle\"], \"Waktu (s)\", \"Sudut ayun (°)\", \"purple\")\n",
    "        ut.add_to_subplot(ax[3, 1], interpolated_datasets[index][\"time\"], interpolated_datasets[index][\"sway_angle\"], \"Waktu (s)\", \"Sudut ayun (°)\", \"purple\")\n",
    "        ax[3, 0].set_ylim(-max_sway_angle, max_sway_angle)\n",
    "        ax[3, 1].set_ylim(-max_sway_angle, max_sway_angle)\n",
    "        plt.tight_layout()\n",
    "        plt.show()"
   ]
  },
  {
   "cell_type": "code",
   "execution_count": null,
   "metadata": {},
   "outputs": [],
   "source": [
    "# Open gantry crane parameter json file\n",
    "USE_LAST_BEST_PARAMETERS = True\n",
    "if USE_LAST_BEST_PARAMETERS:\n",
    "    all_gantry_crane_parameters = ut.load_json(RESULTS_PATH + \"best_parameters.json\")\n",
    "else:\n",
    "    all_gantry_crane_parameters = ut.load_json(GANTRY_CRANE_PARAMETERS_JSON_PATH)[\"gantry_crane_system_model\"][\"parameters\"]\n",
    "print(all_gantry_crane_parameters)"
   ]
  },
  {
   "cell_type": "code",
   "execution_count": null,
   "metadata": {},
   "outputs": [],
   "source": [
    "measured_parameters = {}\n",
    "approximated_parameters = {}\n",
    "for parameter in all_gantry_crane_parameters:\n",
    "    if all_gantry_crane_parameters[parameter][\"measured\"]:\n",
    "        measured_parameters[parameter] = all_gantry_crane_parameters[parameter]\n",
    "    else:\n",
    "        approximated_parameters[parameter] = all_gantry_crane_parameters[parameter]\n",
    "\n",
    "# Print header of approximated parameters\n",
    "print(\"Approximated Parameters\")\n",
    "print(\"Name\", \"Value\")\n",
    "for parameter in approximated_parameters:\n",
    "    print(parameter, approximated_parameters[parameter][\"value\"])"
   ]
  },
  {
   "cell_type": "code",
   "execution_count": null,
   "metadata": {},
   "outputs": [],
   "source": [
    "for parameter in all_gantry_crane_parameters:\n",
    "    # Continue if parameter have \"trolley_*\" or \"hoist_*\" in its name\n",
    "    # if \"trolley_\" in parameter:\n",
    "    #     continue\n",
    "    if \"hoist_\" in parameter or \"cable_\" in parameter:\n",
    "        continue\n",
    "    if parameter in approximated_parameters:\n",
    "        approximated_parameters.pop(parameter)\n",
    "\n",
    "for parameter in approximated_parameters:\n",
    "    print(parameter)"
   ]
  },
  {
   "cell_type": "code",
   "execution_count": null,
   "metadata": {},
   "outputs": [],
   "source": [
    "from model import Simulator\n",
    "simulator = Simulator(DT, NUM_STEPS)"
   ]
  },
  {
   "cell_type": "code",
   "execution_count": null,
   "metadata": {},
   "outputs": [],
   "source": [
    "def cost_function(parameter, datasets):\n",
    "    average_sum_RMSE_squared = 0\n",
    "    NUMBER_OF_DATASETS = len(datasets)\n",
    "    for dataset in datasets:\n",
    "        trolley_motor_input = dataset[\"trolley_motor_pwm\"]\n",
    "        hoist_motor_input = dataset[\"hoist_motor_pwm\"]\n",
    "        initial_conditions = {\n",
    "            \"x\" : dataset[\"trolley_position\"][0],\n",
    "            \"l\" : dataset[\"cable_length\"][0],\n",
    "            \"theta\" : dataset[\"sway_angle\"][0],\n",
    "        }\n",
    "        simulator.simulate(parameter, trolley_motor_input, hoist_motor_input, initial_conditions=initial_conditions)\n",
    "        simulation_result = simulator.get_results()\n",
    "\n",
    "        simulation_result_array = [simulation_result[key] for key in simulation_result]\n",
    "        dataset_array = [dataset[key] for key in dataset]\n",
    "\n",
    "        sum_RMSE = ut.calculate_sum_root_mean_squared_errors(simulation_result_array, dataset_array)\n",
    "        if np.isnan(sum_RMSE):\n",
    "            return np.inf\n",
    "        \n",
    "        average_sum_RMSE_squared += sum_RMSE**2\n",
    "    \n",
    "    average_sum_RMSE_squared /= NUMBER_OF_DATASETS\n",
    "    \n",
    "    return average_sum_RMSE_squared"
   ]
  },
  {
   "cell_type": "code",
   "execution_count": null,
   "metadata": {},
   "outputs": [],
   "source": [
    "optimize_range = {\n",
    "    \"trolley_mass\": (0.001, 10.0),  # Done\n",
    "    \"trolley_damping_coefficient\": (0.001, 10.0),  # Done\n",
    "    \"cable_damping_coefficient\": (0.001, 10.0),  # Done\n",
    "    \"trolley_motor_rotator_inertia\": (0.001, 10.0),  # Done\n",
    "    \"trolley_motor_damping_coefficient\": (0.001, 100.0),\n",
    "    \"trolley_motor_back_emf_constant\": (0.001, 10.0),  # Done\n",
    "    \"trolley_motor_torque_constant\": (0.001, 10.0),  # Done\n",
    "    \"hoist_motor_rotator_inertia\": (0.001, 10.0),  # Done\n",
    "    \"hoist_motor_damping_coefficient\": (0.001, 10.0),\n",
    "    \"hoist_motor_back_emf_constant\": (0.001, 10.0),  # Done\n",
    "    \"hoist_motor_torque_constant\": (0.001, 100.0),  # Done\n",
    "    \"trolley_motor_activation_threshold_voltage\": (0.001, 10.0),  # Done\n",
    "    \"hoist_motor_activation_threshold_voltage\": (0.001, 10.0),  # Done\n",
    "}"
   ]
  },
  {
   "cell_type": "code",
   "execution_count": null,
   "metadata": {},
   "outputs": [],
   "source": [
    "def initialize_population(n, dim, bounds):\n",
    "    population = []\n",
    "    for i in range(n):\n",
    "        individual = np.random.uniform(bounds[0], bounds[1], dim)\n",
    "        population.append(individual)\n",
    "    return population\n",
    "\n",
    "def levy_flight(beta, dim):\n",
    "    sigma = (np.math.gamma(1 + beta) * np.sin(np.pi * beta / 2) / (np.math.gamma((1 + beta) / 2) * beta * 2 ** ((beta - 1) / 2))) ** (1 / beta)\n",
    "    u = np.random.normal(0, sigma, dim)\n",
    "    v = np.random.normal(0, 1, dim)\n",
    "    step = u / np.abs(v) ** (1 / beta)\n",
    "    return step"
   ]
  },
  {
   "cell_type": "code",
   "execution_count": null,
   "metadata": {},
   "outputs": [],
   "source": []
  }
 ],
 "metadata": {
  "kernelspec": {
   "display_name": ".venv",
   "language": "python",
   "name": "python3"
  },
  "language_info": {
   "name": "python",
   "version": "3.10.12"
  }
 },
 "nbformat": 4,
 "nbformat_minor": 2
}
