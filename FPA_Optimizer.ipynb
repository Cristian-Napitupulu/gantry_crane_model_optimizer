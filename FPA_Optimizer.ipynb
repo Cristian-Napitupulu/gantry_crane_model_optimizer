{
 "cells": [
  {
   "cell_type": "code",
   "execution_count": 1,
   "metadata": {},
   "outputs": [],
   "source": [
    "import utility as ut\n",
    "import numpy as np\n",
    "import matplotlib.pyplot as plt\n",
    "import random\n",
    "import copy\n",
    "import math"
   ]
  },
  {
   "cell_type": "code",
   "execution_count": 2,
   "metadata": {},
   "outputs": [],
   "source": [
    "# File paths\n",
    "DIRECTORY = \"data/\"\n",
    "GANTRY_CRANE_PARAMETERS_JSON_PATH = \"gantry_crane_parameters.json\"\n",
    "RESULTS_PATH = \"FPA_results/\""
   ]
  },
  {
   "cell_type": "code",
   "execution_count": 3,
   "metadata": {},
   "outputs": [],
   "source": [
    "# Load data\n",
    "datasets = ut.load_excel_data(DIRECTORY)"
   ]
  },
  {
   "cell_type": "code",
   "execution_count": 4,
   "metadata": {},
   "outputs": [],
   "source": [
    "DURATION = 15  # duration in seconds\n",
    "DT = 0.0001  # time increment in seconds\n",
    "# Create a time array\n",
    "time_array = np.arange(0, DURATION + DT, DT)\n",
    "NUM_STEPS = len(time_array)"
   ]
  },
  {
   "cell_type": "code",
   "execution_count": 5,
   "metadata": {},
   "outputs": [
    {
     "name": "stdout",
     "output_type": "stream",
     "text": [
      "39\n"
     ]
    }
   ],
   "source": [
    "interpolated_datasets = []\n",
    "for i in range(len(datasets)):\n",
    "    new_trolley_position = np.interp(\n",
    "        time_array, datasets[i][\"timestamp\"], datasets[i][\"trolley_position\"]\n",
    "    )\n",
    "    new_cable_length = np.interp(\n",
    "        time_array, datasets[i][\"timestamp\"], datasets[i][\"cable_length\"]\n",
    "    )\n",
    "    new_sway_angle = np.interp(\n",
    "        time_array, datasets[i][\"timestamp\"], datasets[i][\"sway_angle\"]\n",
    "    )\n",
    "    new_trolley_speed = np.interp(\n",
    "        time_array, datasets[i][\"timestamp\"], datasets[i][\"trolley_position_first_derivative\"]\n",
    "    )\n",
    "    new_cable_speed = np.interp(\n",
    "        time_array, datasets[i][\"timestamp\"], datasets[i][\"cable_length_first_derivative\"]\n",
    "    )\n",
    "    new_trolley_motor_pwm = np.interp(\n",
    "        time_array, datasets[i][\"timestamp\"], datasets[i][\"pwm_trolley_motor\"]\n",
    "    )\n",
    "    new_hoist_motor_pwm = np.interp(\n",
    "        time_array, datasets[i][\"timestamp\"], datasets[i][\"pwm_hoist_motor\"]\n",
    "    )\n",
    "    new_trolley_motor_voltage = np.interp(\n",
    "        time_array, datasets[i][\"timestamp\"], datasets[i][\"trolley_motor_voltage\"]\n",
    "    )\n",
    "    new_hoist_motor_voltage = np.interp(\n",
    "        time_array, datasets[i][\"timestamp\"], datasets[i][\"hoist_motor_voltage\"]\n",
    "    )\n",
    "\n",
    "    interpolated_df = {\n",
    "        \"time\": time_array,\n",
    "        \"trolley_position\": new_trolley_position,\n",
    "        \"cable_length\": new_cable_length,\n",
    "        \"sway_angle\": new_sway_angle,\n",
    "        \"trolley_speed\": new_trolley_speed,\n",
    "        \"cable_speed\": new_cable_speed,\n",
    "        \"trolley_motor_pwm\": new_trolley_motor_pwm,\n",
    "        \"hoist_motor_pwm\": new_hoist_motor_pwm,\n",
    "        \"trolley_motor_voltage\": new_trolley_motor_voltage,\n",
    "        \"hoist_motor_voltage\": new_hoist_motor_voltage,\n",
    "    }\n",
    "\n",
    "    interpolated_datasets.append(interpolated_df)\n",
    "\n",
    "print(len(interpolated_datasets))\n"
   ]
  },
  {
   "cell_type": "code",
   "execution_count": 6,
   "metadata": {},
   "outputs": [
    {
     "name": "stdout",
     "output_type": "stream",
     "text": [
      "time\n",
      "trolley_position\n",
      "cable_length\n",
      "sway_angle\n",
      "trolley_speed\n",
      "cable_speed\n",
      "trolley_motor_pwm\n",
      "hoist_motor_pwm\n",
      "trolley_motor_voltage\n",
      "hoist_motor_voltage\n"
     ]
    }
   ],
   "source": [
    "max_sway_angle = 0\n",
    "for i in range(len(interpolated_datasets)):\n",
    "    max_sway_angle = max(\n",
    "        max_sway_angle, max(abs(interpolated_datasets[i][\"sway_angle\"]))\n",
    "    )\n",
    "max_sway_angle *= 1.1\n",
    "\n",
    "# Sort the interpolated_datasets by average trolley motor PWM from lowest to highest and then by average hoist motor PWM from lowest to highest\n",
    "interpolated_datasets.sort(key=lambda x: np.mean(x[\"trolley_motor_pwm\"]))\n",
    "interpolated_datasets.sort(key=lambda x: np.mean(x[\"hoist_motor_pwm\"]))\n",
    "\n",
    "for key in interpolated_datasets[0]:\n",
    "    print(key)"
   ]
  },
  {
   "cell_type": "code",
   "execution_count": 7,
   "metadata": {},
   "outputs": [
    {
     "name": "stdout",
     "output_type": "stream",
     "text": [
      "18\n"
     ]
    }
   ],
   "source": [
    "USE_BEST_DATASET = True\n",
    "best_dataset = []\n",
    "if USE_BEST_DATASET:\n",
    "    for index in range(len(interpolated_datasets)):\n",
    "        if (index >= 9 and index <= 20) or (index >= 30):\n",
    "            continue\n",
    "        best_dataset.append(interpolated_datasets[index])\n",
    "    \n",
    "    interpolated_datasets = best_dataset\n",
    "print(len(interpolated_datasets))"
   ]
  },
  {
   "cell_type": "code",
   "execution_count": 8,
   "metadata": {},
   "outputs": [],
   "source": [
    "SHOW_INTERPOLATED_PLOT = False\n",
    "if SHOW_INTERPOLATED_PLOT:\n",
    "    for index, interpolated_dataset in enumerate(interpolated_datasets):\n",
    "        # if (index >= 9 and index <= 20) or (index >= 30):\n",
    "        #     continue\n",
    "        # Create a figure and a set of subplots\n",
    "        figure, ax = plt.subplots(4, 2, figsize=(14, 9), sharex=True)\n",
    "        figure.suptitle(f\"Interpolated Dataset {index+1}\", fontsize=16)\n",
    "        ut.add_to_subplot(ax[0, 0], interpolated_datasets[index][\"time\"], interpolated_datasets[index][\"trolley_motor_pwm\"], ylabel=\"PWM motor troli\", color=\"blue\")\n",
    "        ut.add_to_subplot(ax[0, 1], interpolated_datasets[index][\"time\"], interpolated_datasets[index][\"hoist_motor_pwm\"], ylabel=\"PWM motor angkut\", color=\"red\")\n",
    "        ut.add_to_subplot(ax[1, 0], interpolated_datasets[index][\"time\"], interpolated_datasets[index][\"trolley_motor_voltage\"], ylabel=\"Tegangan motor troli (V)\", color=\"blue\")\n",
    "        ut.add_to_subplot(ax[1, 1], interpolated_datasets[index][\"time\"], interpolated_datasets[index][\"hoist_motor_voltage\"], ylabel=\"Tegangan motor angkut (V)\", color=\"red\")\n",
    "        ut.add_to_subplot(ax[2, 0], interpolated_datasets[index][\"time\"], interpolated_datasets[index][\"trolley_position\"], ylabel=\"Posisi troli (m)\", color=\"green\")\n",
    "        ut.add_to_subplot(ax[2, 0], interpolated_datasets[index][\"time\"], interpolated_datasets[index][\"trolley_speed\"], ylabel=\"Kecepatan troli (m/s)\", color=\"green\", linestyle=\"--\")\n",
    "        ut.add_to_subplot(ax[2, 1], interpolated_datasets[index][\"time\"], interpolated_datasets[index][\"cable_length\"], ylabel=\"Panjang tali (m)\", color=\"orange\")\n",
    "        ut.add_to_subplot(ax[2, 1], interpolated_datasets[index][\"time\"], interpolated_datasets[index][\"cable_speed\"], ylabel=\"Kecepatan tali (m/s)\", color=\"orange\", linestyle=\"--\")\n",
    "        ut.add_to_subplot(ax[3, 0], interpolated_datasets[index][\"time\"], interpolated_datasets[index][\"sway_angle\"], \"Waktu (s)\", \"Sudut ayun (°)\", \"purple\")\n",
    "        ut.add_to_subplot(ax[3, 1], interpolated_datasets[index][\"time\"], interpolated_datasets[index][\"sway_angle\"], \"Waktu (s)\", \"Sudut ayun (°)\", \"purple\")\n",
    "        ax[3, 0].set_ylim(-max_sway_angle, max_sway_angle)\n",
    "        ax[3, 1].set_ylim(-max_sway_angle, max_sway_angle)\n",
    "        plt.tight_layout()\n",
    "        plt.show()"
   ]
  },
  {
   "cell_type": "code",
   "execution_count": 9,
   "metadata": {},
   "outputs": [
    {
     "name": "stdout",
     "output_type": "stream",
     "text": [
      "{'trolley_motor_torque_constant': {'value': 0.001, 'unit': 'Nm/A', 'description': 'Torque constant of the trolley motor', 'measured': False}, 'trolley_motor_back_emf_constant': {'value': 0.001, 'unit': 'V/(rad/s)', 'description': 'Back EMF constant of the trolley motor', 'measured': False}, 'trolley_motor_rotator_inertia': {'value': 0.001, 'unit': 'kg.m^2', 'description': 'Rotational inertia of the trolley motor rotor', 'measured': False}, 'trolley_motor_damping_coefficient': {'value': 0.001, 'unit': 'Ns.m/rad', 'description': 'Damping coefficient of the trolley motor', 'measured': False}, 'trolley_damping_coefficient': {'value': 0.001, 'unit': 'Ns/m', 'description': 'Damping coefficient of the trolley', 'measured': False}, 'hoist_motor_back_emf_constant': {'value': 0.1, 'unit': 'V/(rad/s)', 'description': 'Back EMF constant of the hoist motor', 'measured': False}, 'hoist_motor_rotator_inertia': {'value': 0.001, 'unit': 'kg.m^2', 'description': 'Rotational inertia of the hoist motor rotor', 'measured': False}, 'hoist_motor_torque_constant': {'value': 10.001, 'unit': 'Nm/A', 'description': 'Torque constant of the hoist motor', 'measured': False}, 'hoist_motor_damping_coefficient': {'value': 0.001, 'unit': 'Ns.m/rad', 'description': 'Damping coefficient of the hoist motor', 'measured': False}, 'cable_damping_coefficient': {'value': 0.001, 'unit': 'Ns/m', 'description': 'Damping coefficient of the cable', 'measured': False}, 'trolley_motor_activation_threshold_voltage': {'value': 3.0, 'unit': 'V', 'description': 'Activation threshold voltage of the trolley motor', 'measured': True}, 'hoist_motor_activation_threshold_voltage': {'value': 3.0, 'unit': 'V', 'description': 'Activation threshold voltage of the hoist motor', 'measured': True}, 'trolley_mass': {'value': 2.0, 'unit': 'kg', 'description': 'Mass of the trolley', 'measured': True}, 'container_mass': {'value': 1.128, 'unit': 'kg', 'description': 'Mass of the container', 'measured': True}, 'gravity_acceleration': {'value': 9.81, 'unit': 'm/s^2', 'description': 'Acceleration due to gravity', 'measured': True}, 'hoist_motor_inductance': {'value': 0.0073, 'unit': 'H', 'description': 'Inductance of the hoist motor', 'measured': True}, 'hoist_motor_resistance': {'value': 9.5, 'unit': 'ohm', 'description': 'Resistance of the hoist motor', 'measured': True}, 'hoist_motor_pulley_radius': {'value': 0.0075, 'unit': 'm', 'description': 'Radius of the pulley connected to the hoist motor', 'measured': True}, 'trolley_motor_inductance': {'value': 0.0001048, 'unit': 'H', 'description': 'Inductance of the trolley motor', 'measured': True}, 'trolley_motor_resistance': {'value': 0.39, 'unit': 'ohm', 'description': 'Resistance of the trolley motor', 'measured': True}, 'trolley_motor_pulley_radius': {'value': 0.0075, 'unit': 'm', 'description': 'Radius of the pulley connected to the trolley motor', 'measured': True}}\n"
     ]
    }
   ],
   "source": [
    "# Open gantry crane parameter json file\n",
    "USE_LAST_BEST_PARAMETERS = False\n",
    "if USE_LAST_BEST_PARAMETERS:\n",
    "    all_gantry_crane_parameters = ut.load_json(RESULTS_PATH + \"best_parameters.json\")\n",
    "else:\n",
    "    all_gantry_crane_parameters = ut.load_json(GANTRY_CRANE_PARAMETERS_JSON_PATH)[\"gantry_crane_system_model\"][\"parameters\"]\n",
    "print(all_gantry_crane_parameters)"
   ]
  },
  {
   "cell_type": "code",
   "execution_count": 10,
   "metadata": {},
   "outputs": [
    {
     "name": "stdout",
     "output_type": "stream",
     "text": [
      "Approximated Parameters\n",
      "Name Value\n",
      "trolley_motor_torque_constant 0.001\n",
      "trolley_motor_back_emf_constant 0.001\n",
      "trolley_motor_rotator_inertia 0.001\n",
      "trolley_motor_damping_coefficient 0.001\n",
      "trolley_damping_coefficient 0.001\n",
      "hoist_motor_back_emf_constant 0.1\n",
      "hoist_motor_rotator_inertia 0.001\n",
      "hoist_motor_torque_constant 10.001\n",
      "hoist_motor_damping_coefficient 0.001\n",
      "cable_damping_coefficient 0.001\n"
     ]
    }
   ],
   "source": [
    "measured_parameters = {}\n",
    "approximated_parameters = {}\n",
    "for parameter in all_gantry_crane_parameters:\n",
    "    if all_gantry_crane_parameters[parameter][\"measured\"]:\n",
    "        measured_parameters[parameter] = all_gantry_crane_parameters[parameter]\n",
    "    else:\n",
    "        approximated_parameters[parameter] = all_gantry_crane_parameters[parameter]\n",
    "\n",
    "# Print header of approximated parameters\n",
    "print(\"Approximated Parameters\")\n",
    "print(\"Name\", \"Value\")\n",
    "for parameter in approximated_parameters:\n",
    "    print(parameter, approximated_parameters[parameter][\"value\"])"
   ]
  },
  {
   "cell_type": "code",
   "execution_count": 11,
   "metadata": {},
   "outputs": [
    {
     "name": "stdout",
     "output_type": "stream",
     "text": [
      "trolley_motor_torque_constant\n",
      "trolley_motor_back_emf_constant\n",
      "trolley_motor_rotator_inertia\n",
      "trolley_motor_damping_coefficient\n",
      "trolley_damping_coefficient\n",
      "hoist_motor_back_emf_constant\n",
      "hoist_motor_rotator_inertia\n",
      "hoist_motor_torque_constant\n",
      "hoist_motor_damping_coefficient\n",
      "cable_damping_coefficient\n"
     ]
    }
   ],
   "source": [
    "# for parameter in all_gantry_crane_parameters:\n",
    "# #     # Continue if parameter have \"trolley_*\" or \"hoist_*\" in its name\n",
    "#     # if \"trolley_\" in parameter:\n",
    "#     #     continue\n",
    "#     if \"hoist_\" in parameter or \"cable_\" in parameter:\n",
    "#         continue\n",
    "#     if parameter in approximated_parameters:\n",
    "#         approximated_parameters.pop(parameter)\n",
    "\n",
    "for parameter in approximated_parameters:\n",
    "    print(parameter)"
   ]
  },
  {
   "cell_type": "code",
   "execution_count": 12,
   "metadata": {},
   "outputs": [],
   "source": [
    "from model import Simulator\n",
    "simulator = Simulator(DT, NUM_STEPS)"
   ]
  },
  {
   "cell_type": "code",
   "execution_count": 13,
   "metadata": {},
   "outputs": [],
   "source": [
    "def cost_function(parameter, datasets):\n",
    "    # NUMBER_OF_DATASETS = len(datasets)\n",
    "    average_sum_RMSE_squared = 0\n",
    "    for dataset in datasets:\n",
    "        trolley_motor_input = dataset[\"trolley_motor_pwm\"]\n",
    "        hoist_motor_input = dataset[\"hoist_motor_pwm\"]\n",
    "        initial_conditions = {\n",
    "            \"x\" : dataset[\"trolley_position\"][0],\n",
    "            \"l\" : dataset[\"cable_length\"][0],\n",
    "            \"theta\" : dataset[\"sway_angle\"][0],\n",
    "        }\n",
    "        simulator.simulate(parameter, trolley_motor_input, hoist_motor_input, initial_conditions=initial_conditions)\n",
    "        simulation_result = simulator.get_results()\n",
    "\n",
    "        simulation_result_array = [simulation_result[key] for key in simulation_result]\n",
    "        dataset_array = [dataset[key] for key in dataset]\n",
    "\n",
    "        sum_RMSE = ut.calculate_sum_root_mean_squared_errors(simulation_result_array, dataset_array)\n",
    "        \n",
    "        if np.isnan(sum_RMSE):\n",
    "            return np.inf\n",
    "        \n",
    "        average_sum_RMSE_squared += sum_RMSE**2\n",
    "    \n",
    "    # average_sum_RMSE_squared /= NUMBER_OF_DATASETS\n",
    "    \n",
    "    return average_sum_RMSE_squared"
   ]
  },
  {
   "cell_type": "code",
   "execution_count": 14,
   "metadata": {},
   "outputs": [],
   "source": [
    "optimize_range = {\n",
    "    \"trolley_mass\": (0.001, 10.0),  # Done\n",
    "    \"trolley_damping_coefficient\": (0.001, 10.0),  # Done\n",
    "    \"cable_damping_coefficient\": (0.001, 10.0),  # Done\n",
    "    \"trolley_motor_rotator_inertia\": (0.001, 10.0),  # Done\n",
    "    \"trolley_motor_damping_coefficient\": (0.001, 10.0),\n",
    "    \"trolley_motor_back_emf_constant\": (0.001, 10.0),  # Done\n",
    "    \"trolley_motor_torque_constant\": (0.001, 10.0),  # Done\n",
    "    \"hoist_motor_rotator_inertia\": (0.001, 10.0),  # Done\n",
    "    \"hoist_motor_damping_coefficient\": (0.001, 10.0), # Done\n",
    "    \"hoist_motor_back_emf_constant\": (0.001, 10.0),  # Done\n",
    "    \"hoist_motor_torque_constant\": (0.001, 10.0),  # Done\n",
    "    \"trolley_motor_activation_threshold_voltage\": (0.001, 10.0),  # Done\n",
    "    \"hoist_motor_activation_threshold_voltage\": (0.001, 10.0),  # Done\n",
    "}"
   ]
  },
  {
   "cell_type": "code",
   "execution_count": 15,
   "metadata": {},
   "outputs": [],
   "source": [
    "MAX_EPISODES = 3\n",
    "MAX_GENERATIONS = 500\n",
    "NUMBER_OF_POPULATIONS = 20\n",
    "SWITCH_PROBABILITY = 0.8\n",
    "LAMBDA = 1.5\n",
    "NUMBER_OF_PARAMETERS = len(approximated_parameters)\n",
    "BATCH_SIZE = len(interpolated_datasets)"
   ]
  },
  {
   "cell_type": "code",
   "execution_count": 16,
   "metadata": {},
   "outputs": [],
   "source": [
    "def Levy_flight(Lambda):\n",
    "    step_size = np.zeros(NUMBER_OF_PARAMETERS)\n",
    "    # Levy flight\n",
    "    sigma = (math.gamma(1 + Lambda) * np.sin(np.pi * Lambda / 2) / (math.gamma((1 + Lambda) / 2) * Lambda * 2 ** ((Lambda - 1) / 2))) ** (1 / Lambda)\n",
    "    for i in range(NUMBER_OF_PARAMETERS):\n",
    "        u = np.random.normal(0, sigma)\n",
    "        v = np.random.normal(0, 1)\n",
    "        step = u / np.abs(v) ** (1 / Lambda)\n",
    "        step_size[i] = step\n",
    "    return step_size"
   ]
  },
  {
   "cell_type": "code",
   "execution_count": 17,
   "metadata": {},
   "outputs": [],
   "source": [
    "random_dataset_indexes = random.sample(range(len(interpolated_datasets)), BATCH_SIZE)\n",
    "random_datasets = [interpolated_datasets[index] for index in random_dataset_indexes]"
   ]
  },
  {
   "cell_type": "code",
   "execution_count": 18,
   "metadata": {},
   "outputs": [
    {
     "name": "stdout",
     "output_type": "stream",
     "text": [
      "\u001b[92mCreating new population for episode 1.\u001b[0m Population size: 20\n",
      "\u001b[92mFinding initial best cost for episode 1.\u001b[0m "
     ]
    }
   ],
   "source": [
    "best_cost_histories = []\n",
    "for episode in range(MAX_EPISODES):\n",
    "    # Generate new population_of_parameters\n",
    "    print(f\"\\033[92mCreating new population for episode {episode+1}.\\033[0m Population size: {NUMBER_OF_POPULATIONS}\")\n",
    "    population_of_parameters = []\n",
    "    for i in range(NUMBER_OF_POPULATIONS):\n",
    "        new_parameters = copy.deepcopy(all_gantry_crane_parameters)\n",
    "        for parameter in approximated_parameters:\n",
    "            new_parameters[parameter][\"value\"] = np.random.uniform(optimize_range[parameter][0], optimize_range[parameter][1])\n",
    "        population_of_parameters.append(new_parameters)\n",
    "        \n",
    "    # Find best cost in population_of_parameters\n",
    "    print(f\"\\033[92mFinding initial best cost for episode {episode+1}.\\033[0m\", end=\" \")\n",
    "    costs = np.zeros(NUMBER_OF_POPULATIONS)\n",
    "    for index, parameters in enumerate(population_of_parameters):\n",
    "        costs[index] = cost_function(parameters, random_datasets)\n",
    "    \n",
    "    best_parameters_index = np.argmin(costs)\n",
    "    best_cost = costs[best_parameters_index]\n",
    "    best_parameters = population_of_parameters[best_parameters_index]\n",
    "    print(f\"Initial best cost: {best_cost}\")\n",
    "\n",
    "    best_cost_history = np.zeros(MAX_GENERATIONS + 1)\n",
    "    best_cost_history[0] = best_cost\n",
    "    for generation in range(MAX_GENERATIONS):\n",
    "        for index, parameters in enumerate(population_of_parameters):\n",
    "            # Generate temporary parameters\n",
    "            new_parameters = copy.deepcopy(parameters)\n",
    "            polination_type = \"\"\n",
    "            if np.random.uniform(0, 1) < SWITCH_PROBABILITY:\n",
    "                polination_type = \"global\"\n",
    "                # Do global pollination\n",
    "                Levy_step = Levy_flight(LAMBDA)\n",
    "                step_size = Levy_step\n",
    "                for index_, parameter in enumerate(approximated_parameters):\n",
    "                    new_parameters[parameter][\"value\"] += step_size[index_] * (parameters[parameter][\"value\"] - best_parameters[parameter][\"value\"])\n",
    "                    \n",
    "            else:\n",
    "                polination_type = \"local\"\n",
    "                # Do local pollination\n",
    "                epsilon = np.random.uniform(0, 1)\n",
    "                step_size = epsilon\n",
    "                j, k = random.sample(range(NUMBER_OF_POPULATIONS), 2)\n",
    "                for i, parameter in enumerate(approximated_parameters):\n",
    "                    new_parameters[parameter][\"value\"] += step_size * (population_of_parameters[j][parameter][\"value\"] - population_of_parameters[k][parameter][\"value\"])\n",
    "            \n",
    "            # Check if new_parameters is within the range\n",
    "            for parameter in approximated_parameters:\n",
    "                if new_parameters[parameter][\"value\"] < optimize_range[parameter][0]:\n",
    "                    new_parameters[parameter][\"value\"] = optimize_range[parameter][0]\n",
    "                elif new_parameters[parameter][\"value\"] > optimize_range[parameter][1]:\n",
    "                    new_parameters[parameter][\"value\"] = optimize_range[parameter][1]\n",
    "            \n",
    "            # Evaluate new_parameters\n",
    "            new_cost = cost_function(new_parameters, random_datasets)\n",
    "            if new_cost == np.inf:\n",
    "                print(f\"Population {index+1} has inf cost. Generating new random parameters for population {index+1}\")\n",
    "                for parameter in approximated_parameters:\n",
    "                    new_parameters[parameter][\"value\"] = np.random.uniform(optimize_range[parameter][0], optimize_range[parameter][1])\n",
    "                new_cost = cost_function(new_parameters, random_datasets)\n",
    "            \n",
    "            if new_cost < costs[index]:\n",
    "                population_of_parameters[index] = new_parameters\n",
    "                costs[index] = new_cost\n",
    "                \n",
    "            if new_cost < best_cost:\n",
    "                best_cost_history[generation+1] = new_cost\n",
    "                print(f\"\\033[92mFound new best cost: {new_cost}.\\033[0m\", end=\" Parameters: \")\n",
    "                for parameter in best_parameters:\n",
    "                    print(parameter, best_parameters[parameter][\"value\"], end=\", \")\n",
    "                print()\n",
    "                best_cost = new_cost\n",
    "                best_parameters = new_parameters\n",
    "                ut.save_json(best_parameters, RESULTS_PATH + \"best_parameters.json\")\n",
    "            \n",
    "            print(f\"Episode {episode+1} of {MAX_EPISODES}, Generation {generation+1} of {MAX_GENERATIONS}, Population {index+1}, Polination type: {polination_type}, Cost: {costs[index]}\")\n",
    "        \n",
    "        if (generation+1) % int(MAX_GENERATIONS/10) == 0:\n",
    "            print(f\"\\033[92mCheckpoint: Episode {episode+1}, Generation {generation+1}, Best Cost: {best_cost} \\033[0m\")\n",
    "            for parameter in best_parameters:\n",
    "                print(parameter, best_parameters[parameter][\"value\"], end=\", \")\n",
    "            print()\n",
    "    \n",
    "    best_cost_histories.append(best_cost_history)"
   ]
  },
  {
   "cell_type": "code",
   "execution_count": null,
   "metadata": {},
   "outputs": [],
   "source": [
    "for episode, best_cost_history in enumerate(best_cost_histories):\n",
    "    plt.plot(best_cost_history, label=f\"Episode {episode + 1}\")\n",
    "    plt.title(f\"Cost History of Episode {episode + 1}\")\n",
    "    plt.xlabel(\"Generation\")\n",
    "    plt.ylabel(\"Cost\")\n",
    "    plt.legend()\n",
    "    plt.show()"
   ]
  },
  {
   "cell_type": "code",
   "execution_count": null,
   "metadata": {},
   "outputs": [],
   "source": [
    "# Load the best parameters\n",
    "best_parameters = ut.load_json(RESULTS_PATH + \"best_parameters.json\")\n",
    "\n",
    "# best_parameters = ut.load_json(GANTRY_CRANE_PARAMETERS_JSON_PATH)[\"gantry_crane_system_model\"][\"parameters\"]\n",
    "\n",
    "for parameter in best_parameters:\n",
    "    print(parameter, best_parameters[parameter][\"value\"], end=\", \")\n",
    "print()\n",
    "\n",
    "# Simulate the gantry crane system using the best parameters\n",
    "total_cost = 0\n",
    "costs = []\n",
    "for index, dataset in enumerate(interpolated_datasets):\n",
    "    # if index != 0:\n",
    "    #     continue\n",
    "    # if index != 10:\n",
    "    #     continue\n",
    "    simulator.simulate(best_parameters, dataset[\"trolley_motor_pwm\"], dataset[\"hoist_motor_pwm\"], initial_conditions={\"x\": dataset[\"trolley_position\"][0], \"l\": dataset[\"cable_length\"][0], \"theta\": dataset[\"sway_angle\"][0]})\n",
    "    simulation_result = simulator.get_results()\n",
    "\n",
    "    cost = cost_function(best_parameters, [dataset])\n",
    "    total_cost += cost\n",
    "    costs.append(cost)\n",
    "\n",
    "    print(f\"Data {index+1} - Fungsi biaya: {round(cost, 5)}\")\n",
    "\n",
    "    # Create a figure and a set of subplots\n",
    "    figure, ax = plt.subplots(4, 2, figsize=(12, 6), sharex=True)\n",
    "    plt.rcParams.update({\"font.size\": 10})\n",
    "    figure.suptitle(f\"Data {index+1} - Fungsi biaya: {round(cost, 5)}\", fontsize=12)\n",
    "    ut.add_to_subplot(ax[0, 0], simulation_result[\"time\"], simulation_result[\"trolley_motor_pwm\"], ylabel=\"PWM motor troli (simulasi)\", color=plt.get_cmap(\"tab20\")(0))\n",
    "    ut.add_to_subplot(ax[0, 1], simulation_result[\"time\"], simulation_result[\"hoist_motor_pwm\"], ylabel=\"PWM motor angkut (simulasi)\", color=plt.get_cmap(\"tab20\")(2))\n",
    "    ut.add_to_subplot(ax[1, 0], simulation_result[\"time\"], simulation_result[\"trolley_motor_voltage\"], ylabel=\"Tegangan motor troli (V) (simulasi)\", color=plt.get_cmap(\"tab20\")(4))\n",
    "    ut.add_to_subplot(ax[1, 1], simulation_result[\"time\"], simulation_result[\"hoist_motor_voltage\"], ylabel=\"Tegangan motor angkut (V) (simulasi)\", color=plt.get_cmap(\"tab20\")(6))\n",
    "    ut.add_to_subplot(ax[2, 0], simulation_result[\"time\"], simulation_result[\"trolley_position\"], ylabel=\"Posisi troli (m) (simulasi)\", color=plt.get_cmap(\"tab20\")(8))\n",
    "    ut.add_to_subplot(ax[2, 0], simulation_result[\"time\"], simulation_result[\"trolley_speed\"], ylabel=\"Kecepatan troli (m/s) (simulasi)\", color=plt.get_cmap(\"tab20\")(8), linestyle=\"--\")\n",
    "    ut.add_to_subplot(ax[2, 1], simulation_result[\"time\"], simulation_result[\"cable_length\"], ylabel=\"Panjang tali (m) (simulasi)\", color=plt.get_cmap(\"tab20\")(10))\n",
    "    ut.add_to_subplot(ax[2, 1], simulation_result[\"time\"], simulation_result[\"cable_speed\"], ylabel=\"Kecepatan tali (m/s) (simulasi)\", color=plt.get_cmap(\"tab20\")(10), linestyle=\"--\")\n",
    "    ut.add_to_subplot(ax[3, 0], simulation_result[\"time\"], simulation_result[\"sway_angle\"], \"Waktu (s)\", \"Sudut ayun (°) (simulasi)\", color=plt.get_cmap(\"tab20\")(12))\n",
    "    ut.add_to_subplot(ax[3, 1], simulation_result[\"time\"], simulation_result[\"sway_angle\"], \"Waktu (s)\", \"Sudut ayun (°) (simulasi)\", color=plt.get_cmap(\"tab20\")(12))\n",
    "\n",
    "    ut.add_to_subplot(ax[0, 0], dataset[\"time\"], dataset[\"trolley_motor_pwm\"], ylabel=\"PWM motor troli (data)\", color=plt.get_cmap(\"tab20\")(1))\n",
    "    ut.add_to_subplot(ax[0, 1], dataset[\"time\"], dataset[\"hoist_motor_pwm\"], ylabel=\"PWM motor angkut (data)\", color=plt.get_cmap(\"tab20\")(3))\n",
    "    ut.add_to_subplot(ax[1, 0], dataset[\"time\"], dataset[\"trolley_motor_voltage\"], ylabel=\"Tegangan motor troli (V) (data)\", color=plt.get_cmap(\"tab20\")(5))\n",
    "    ut.add_to_subplot(ax[1, 1], dataset[\"time\"], dataset[\"hoist_motor_voltage\"], ylabel=\"Tegangan motor angkut (V) (data)\", color=plt.get_cmap(\"tab20\")(7))\n",
    "    ut.add_to_subplot(ax[2, 0], dataset[\"time\"], dataset[\"trolley_position\"], ylabel=\"Posisi troli (m) (data)\", color=plt.get_cmap(\"tab20\")(9))\n",
    "    ut.add_to_subplot(ax[2, 0], dataset[\"time\"], dataset[\"trolley_speed\"], ylabel=\"Kecepatan troli (m/s) (data)\", color=plt.get_cmap(\"tab20\")(9), linestyle=\"--\")\n",
    "    ut.add_to_subplot(ax[2, 1], dataset[\"time\"], dataset[\"cable_length\"], ylabel=\"Panjang tali (m) (data)\", color=plt.get_cmap(\"tab20\")(11))\n",
    "    ut.add_to_subplot(ax[2, 1], dataset[\"time\"], dataset[\"cable_speed\"], ylabel=\"Kecepatan tali (m/s) (data)\", color=plt.get_cmap(\"tab20\")(11), linestyle=\"--\")\n",
    "    ut.add_to_subplot(ax[3, 0], dataset[\"time\"], dataset[\"sway_angle\"], \"Waktu (s)\", \"Sudut ayun (°) (data)\", color=plt.get_cmap(\"tab20\")(13))\n",
    "    ut.add_to_subplot(ax[3, 1], dataset[\"time\"], dataset[\"sway_angle\"], \"Waktu (s)\", \"Sudut ayun (°) (data)\", color=plt.get_cmap(\"tab20\")(13))\n",
    "    # ax[3, 0].set_ylim(-max_sway_angle, max_sway_angle)\n",
    "    # ax[3, 1].set_ylim(-max_sway_angle, max_sway_angle)\n",
    "    plt.tight_layout()\n",
    "\n",
    "    # Save the figure as SVG\n",
    "    plt.savefig(RESULTS_PATH + f\"figure/data_{index+1}.svg\")\n",
    "    plt.show()\n",
    "\n",
    "print(\"Minimum cost: \", np.min(costs))\n",
    "print(\"Maximum cost: \", np.max(costs))\n",
    "print(f\"Total cost: {total_cost}\")"
   ]
  }
 ],
 "metadata": {
  "kernelspec": {
   "display_name": ".venv",
   "language": "python",
   "name": "python3"
  },
  "language_info": {
   "codemirror_mode": {
    "name": "ipython",
    "version": 3
   },
   "file_extension": ".py",
   "mimetype": "text/x-python",
   "name": "python",
   "nbconvert_exporter": "python",
   "pygments_lexer": "ipython3",
   "version": "3.10.12"
  }
 },
 "nbformat": 4,
 "nbformat_minor": 2
}
