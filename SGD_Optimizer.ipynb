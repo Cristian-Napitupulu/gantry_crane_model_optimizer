{
 "cells": [
  {
   "cell_type": "code",
   "execution_count": null,
   "metadata": {},
   "outputs": [],
   "source": [
    "import utility as ut\n",
    "import numpy as np\n",
    "import matplotlib.pyplot as plt\n",
    "import random\n",
    "import copy\n"
   ]
  },
  {
   "cell_type": "code",
   "execution_count": null,
   "metadata": {},
   "outputs": [],
   "source": [
    "# File paths\n",
    "DIRECTORY = \"data/\"\n",
    "GANTRY_CRANE_PARAMETERS_JSON_PATH = \"gantry_crane_parameters.json\"\n",
    "RESULTS_PATH = \"SGD_results/\""
   ]
  },
  {
   "cell_type": "code",
   "execution_count": null,
   "metadata": {},
   "outputs": [],
   "source": [
    "# Load data\n",
    "datasets = ut.load_excel_data(DIRECTORY)"
   ]
  },
  {
   "cell_type": "code",
   "execution_count": null,
   "metadata": {},
   "outputs": [],
   "source": [
    "DURATION = 15  # duration in seconds\n",
    "DT = 0.0001  # time increment in seconds\n",
    "# Create a time array\n",
    "time_array = np.arange(0, DURATION + DT, DT)\n",
    "NUM_STEPS = len(time_array)"
   ]
  },
  {
   "cell_type": "code",
   "execution_count": null,
   "metadata": {},
   "outputs": [],
   "source": [
    "interpolated_datasets = []\n",
    "for i in range(len(datasets)):\n",
    "    new_trolley_position = np.interp(\n",
    "        time_array, datasets[i][\"timestamp\"], datasets[i][\"trolley_position\"]\n",
    "    )\n",
    "    new_cable_length = np.interp(\n",
    "        time_array, datasets[i][\"timestamp\"], datasets[i][\"cable_length\"]\n",
    "    )\n",
    "    new_sway_angle = np.interp(\n",
    "        time_array, datasets[i][\"timestamp\"], datasets[i][\"sway_angle\"]\n",
    "    )\n",
    "    new_trolley_motor_pwm = np.interp(\n",
    "        time_array, datasets[i][\"timestamp\"], datasets[i][\"pwm_trolley_motor\"]\n",
    "    )\n",
    "    new_hoist_motor_pwm = np.interp(\n",
    "        time_array, datasets[i][\"timestamp\"], datasets[i][\"pwm_hoist_motor\"]\n",
    "    )\n",
    "    new_trolley_motor_voltage = np.interp(\n",
    "        time_array, datasets[i][\"timestamp\"], datasets[i][\"trolley_motor_voltage\"]\n",
    "    )\n",
    "    new_hoist_motor_voltage = np.interp(\n",
    "        time_array, datasets[i][\"timestamp\"], datasets[i][\"hoist_motor_voltage\"]\n",
    "    )\n",
    "\n",
    "    interpolated_df = {\n",
    "        \"time\": time_array,\n",
    "        \"trolley_position\": new_trolley_position,\n",
    "        \"cable_length\": new_cable_length,\n",
    "        \"sway_angle\": new_sway_angle,\n",
    "        \"trolley_motor_pwm\": new_trolley_motor_pwm,\n",
    "        \"hoist_motor_pwm\": new_hoist_motor_pwm,\n",
    "        \"trolley_motor_voltage\": new_trolley_motor_voltage,\n",
    "        \"hoist_motor_voltage\": new_hoist_motor_voltage,\n",
    "    }\n",
    "\n",
    "    interpolated_datasets.append(interpolated_df)"
   ]
  },
  {
   "cell_type": "code",
   "execution_count": null,
   "metadata": {},
   "outputs": [],
   "source": [
    "print(len(interpolated_datasets))\n",
    "max_sway_angle = 0\n",
    "for i in range(len(interpolated_datasets)):\n",
    "    max_sway_angle = max(\n",
    "        max_sway_angle, max(abs(interpolated_datasets[i][\"sway_angle\"]))\n",
    "    )\n",
    "\n",
    "# Sort the interpolated_datasets by average trolley motor PWM from lowest to highest and then by average hoist motor PWM from lowest to highest\n",
    "interpolated_datasets.sort(key=lambda x: np.mean(x[\"trolley_motor_pwm\"]))\n",
    "interpolated_datasets.sort(key=lambda x: np.mean(x[\"hoist_motor_pwm\"]))"
   ]
  },
  {
   "cell_type": "code",
   "execution_count": null,
   "metadata": {},
   "outputs": [],
   "source": [
    "for key in interpolated_datasets[0]:\n",
    "    print(key)"
   ]
  },
  {
   "cell_type": "code",
   "execution_count": null,
   "metadata": {},
   "outputs": [],
   "source": [
    "show_interpolated_datasets = False\n",
    "if show_interpolated_datasets:\n",
    "    j = 0\n",
    "    for i in range(len(interpolated_datasets)):\n",
    "        if i % 3 != 0:\n",
    "            continue\n",
    "        j += 1\n",
    "        # Create a figure and a set of subplots\n",
    "        figure, ax = plt.subplots(4, 2, figsize=(14, 9), sharex=True)\n",
    "        figure.suptitle(f\"Interpolated Dataset {j+1}\", fontsize=16)\n",
    "        ut.add_to_subplot(ax[0, 0], interpolated_datasets[i][\"time\"], interpolated_datasets[i][\"trolley_motor_pwm\"], ylabel=\"PWM motor troli\", color=\"blue\")\n",
    "        ut.add_to_subplot(ax[0, 1], interpolated_datasets[i][\"time\"], interpolated_datasets[i][\"hoist_motor_pwm\"], ylabel=\"PWM motor angkut\", color=\"red\")\n",
    "        ut.add_to_subplot(ax[1, 0], interpolated_datasets[i][\"time\"], interpolated_datasets[i][\"trolley_motor_voltage\"], ylabel=\"Tegangan motor troli (V)\", color=\"blue\")\n",
    "        ut.add_to_subplot(ax[1, 1], interpolated_datasets[i][\"time\"], interpolated_datasets[i][\"hoist_motor_voltage\"], ylabel=\"Tegangan motor angkut (V)\", color=\"red\")\n",
    "        ut.add_to_subplot(ax[2, 0], interpolated_datasets[i][\"time\"], interpolated_datasets[i][\"trolley_position\"], ylabel=\"Posisi troli (m)\", color=\"green\")\n",
    "        ut.add_to_subplot(ax[2, 1], interpolated_datasets[i][\"time\"], interpolated_datasets[i][\"cable_length\"], ylabel=\"Panjang tali (m)\", color=\"orange\")\n",
    "        ut.add_to_subplot(ax[3, 0], interpolated_datasets[i][\"time\"], interpolated_datasets[i][\"sway_angle\"], \"Waktu (s)\", \"Sudut ayun (°)\", \"purple\")\n",
    "        ut.add_to_subplot(ax[3, 1], interpolated_datasets[i][\"time\"], interpolated_datasets[i][\"sway_angle\"], \"Waktu (s)\", \"Sudut ayun (°)\", \"purple\")\n",
    "        ax[3, 0].set_ylim(-max_sway_angle, max_sway_angle)\n",
    "        ax[3, 1].set_ylim(-max_sway_angle, max_sway_angle)\n",
    "        plt.tight_layout()\n",
    "        plt.show()"
   ]
  },
  {
   "cell_type": "code",
   "execution_count": null,
   "metadata": {},
   "outputs": [],
   "source": [
    "# Open gantry crane parameter json file\n",
    "USE_LAST_BEST_PARAMETERS = True\n",
    "if USE_LAST_BEST_PARAMETERS:\n",
    "    all_gantry_crane_parameters = ut.load_json(RESULTS_PATH + \"best_parameters.json\")\n",
    "else:\n",
    "    all_gantry_crane_parameters = ut.load_json(GANTRY_CRANE_PARAMETERS_JSON_PATH)[\"gantry_crane_system_model\"][\"parameters\"]\n",
    "print(all_gantry_crane_parameters)"
   ]
  },
  {
   "cell_type": "code",
   "execution_count": null,
   "metadata": {},
   "outputs": [],
   "source": [
    "measured_parameters = {}\n",
    "approximated_parameters = {}\n",
    "for parameter in all_gantry_crane_parameters:\n",
    "    if all_gantry_crane_parameters[parameter][\"measured\"]:\n",
    "        measured_parameters[parameter] = all_gantry_crane_parameters[parameter]\n",
    "    else:\n",
    "        approximated_parameters[parameter] = all_gantry_crane_parameters[parameter]\n",
    "\n",
    "print(measured_parameters)\n",
    "print(approximated_parameters)"
   ]
  },
  {
   "cell_type": "code",
   "execution_count": null,
   "metadata": {},
   "outputs": [],
   "source": [
    "from model import Simulator\n",
    "simulator = Simulator(DT, NUM_STEPS)"
   ]
  },
  {
   "cell_type": "code",
   "execution_count": null,
   "metadata": {},
   "outputs": [],
   "source": [
    "def cost_function(parameter, dataset):\n",
    "    trolley_motor_input = dataset[\"trolley_motor_pwm\"]\n",
    "    hoist_motor_input = dataset[\"hoist_motor_pwm\"]\n",
    "    initial_conditions = {\n",
    "        \"x\" : dataset[\"trolley_position\"][0],\n",
    "        \"l\" : dataset[\"cable_length\"][0],\n",
    "        \"theta\" : dataset[\"sway_angle\"][0],\n",
    "    }\n",
    "    simulator.simulate(parameter, trolley_motor_input, hoist_motor_input, initial_conditions=initial_conditions)\n",
    "    simulation_result = simulator.get_results()\n",
    "\n",
    "    simulation_result_array = [simulation_result[key] for key in simulation_result]\n",
    "    dataset_array = [dataset[key] for key in dataset]\n",
    "\n",
    "    sum_RMSE = ut.calculate_sum_root_mean_squared_errors(simulation_result_array, dataset_array)\n",
    "    if np.isnan(sum_RMSE):\n",
    "        return np.inf\n",
    "    \n",
    "    return sum_RMSE"
   ]
  },
  {
   "cell_type": "code",
   "execution_count": null,
   "metadata": {},
   "outputs": [],
   "source": [
    "optimize_range = {\n",
    "    \"trolley_mass\": (1.0, 5.0),  # Done\n",
    "    \"trolley_damping_coefficient\": (0.1, 10.0),  # Done\n",
    "    \"cable_damping_coefficient\": (0.1, 10.0),  # Done\n",
    "    \"trolley_motor_rotator_inertia\": (0.00001, 0.001),  # Done\n",
    "    \"trolley_motor_damping_coefficient\": (0.1, 10.0),\n",
    "    \"trolley_motor_back_emf_constant\": (0.001, 0.1),  # Done\n",
    "    \"trolley_motor_torque_constant\": (0.01, 1.0),  # Done\n",
    "    \"hoist_motor_rotator_inertia\": (0.000001, 0.0001),  # Done\n",
    "    \"hoist_motor_damping_coefficient\": (0.1, 10.0),\n",
    "    \"hoist_motor_back_emf_constant\": (0.01, 1.0),  # Done\n",
    "    \"hoist_motor_torque_constant\": (0.0001, 0.01),  # Done\n",
    "    \"trolley_motor_activation_threshold_voltage\": (0.1, 10.0),  # Done\n",
    "    \"hoist_motor_activation_threshold_voltage\": (0.1, 10.0),  # Done\n",
    "}"
   ]
  },
  {
   "cell_type": "code",
   "execution_count": null,
   "metadata": {},
   "outputs": [],
   "source": [
    "MAX_ITERATIONS = 1000\n",
    "MAX_EPISODES = 1\n",
    "BATCH_SIZE = 3  # Must be less than len(interpolated_datasets)\n",
    "LEARNING_RATE = 0.001\n",
    "\n",
    "h = 10**-9"
   ]
  },
  {
   "cell_type": "code",
   "execution_count": null,
   "metadata": {},
   "outputs": [],
   "source": [
    "best_parameters = copy.deepcopy(all_gantry_crane_parameters)\n",
    "best_cost = 0\n",
    "for dataset in interpolated_datasets:\n",
    "    best_cost += cost_function(best_parameters, dataset)\n",
    "    print(best_cost)\n",
    "    print(\" \" * 100, end=\"\\r\")\n",
    "best_cost /= len(interpolated_datasets)\n",
    "print(best_cost)"
   ]
  },
  {
   "cell_type": "code",
   "execution_count": null,
   "metadata": {},
   "outputs": [],
   "source": [
    "cost_histories = np.zeros(MAX_EPISODES)\n",
    "for episode in range(MAX_EPISODES):\n",
    "    current_parameters = copy.deepcopy(best_parameters)\n",
    "    for parameter in approximated_parameters:\n",
    "            current_parameters[parameter][\"value\"] = np.random.uniform(\n",
    "                optimize_range[parameter][0], optimize_range[parameter][1]\n",
    "            )\n",
    "\n",
    "    diverge = False\n",
    "    cost_history = np.zeros(MAX_ITERATIONS)\n",
    "    for iteration in range(MAX_ITERATIONS):\n",
    "        print(f\"\\033[92m Episode: {episode} Iteration: {iteration} \\033[0m\")\n",
    "\n",
    "        # Choose random datasets for stochastic gradient descent\n",
    "        random_dataset_indexes = random.sample(range(len(interpolated_datasets)), BATCH_SIZE)\n",
    "        random_datasets = [interpolated_datasets[i] for i in random_dataset_indexes]\n",
    "\n",
    "        for parameter in approximated_parameters:\n",
    "            average_batch_cost = 0\n",
    "            for dataset in random_datasets:\n",
    "                average_batch_cost += cost_function(current_parameters, dataset)\n",
    "            average_batch_cost /= BATCH_SIZE\n",
    "            if average_batch_cost == np.inf:\n",
    "                diverge = True\n",
    "                break\n",
    "            # print(f\"Cost: {average_batch_cost}\")\n",
    "\n",
    "            # Calculate the gradient\n",
    "            old_parameter_value = current_parameters[parameter][\"value\"]\n",
    "            new_parameter_value = current_parameters[parameter][\"value\"] + h\n",
    "            current_parameters[parameter][\"value\"] = new_parameter_value\n",
    "            new_average_batch_cost = 0\n",
    "            for dataset in random_datasets:\n",
    "                new_average_batch_cost += cost_function(current_parameters, dataset)\n",
    "            new_average_batch_cost /= BATCH_SIZE\n",
    "            gradient = (new_average_batch_cost - average_batch_cost) / h\n",
    "\n",
    "            # Update the parameter\n",
    "            current_parameters[parameter][\"value\"] = old_parameter_value\n",
    "            current_parameters[parameter][\"value\"] -= LEARNING_RATE * gradient\n",
    "\n",
    "            # Clip the parameter\n",
    "            current_parameters[parameter][\"value\"] = np.clip(\n",
    "                current_parameters[parameter][\"value\"],\n",
    "                optimize_range[parameter][0],\n",
    "                optimize_range[parameter][1],\n",
    "            )\n",
    "\n",
    "        # Calculate the cost\n",
    "        cost = cost_function(current_parameters, dataset)\n",
    "        print(f\"Cost: {cost}\")\n",
    "        cost_history[iteration] = cost\n",
    "\n",
    "        if cost < best_cost:\n",
    "            best_cost = cost\n",
    "            best_parameters = copy.deepcopy(current_parameters)\n",
    "\n",
    "            # Save the best parameters to a JSON file\n",
    "            ut.save_json(best_parameters, RESULTS_PATH + \"best_parameters.json\")\n",
    "\n",
    "        if diverge:\n",
    "            break"
   ]
  },
  {
   "cell_type": "code",
   "execution_count": null,
   "metadata": {},
   "outputs": [],
   "source": [
    "print(best_parameters)"
   ]
  },
  {
   "cell_type": "code",
   "execution_count": null,
   "metadata": {},
   "outputs": [],
   "source": [
    "plt.plot(cost_history)\n",
    "plt.show()"
   ]
  }
 ],
 "metadata": {
  "kernelspec": {
   "display_name": ".venv",
   "language": "python",
   "name": "python3"
  },
  "language_info": {
   "codemirror_mode": {
    "name": "ipython",
    "version": 3
   },
   "file_extension": ".py",
   "mimetype": "text/x-python",
   "name": "python",
   "nbconvert_exporter": "python",
   "pygments_lexer": "ipython3",
   "version": "3.11.9"
  }
 },
 "nbformat": 4,
 "nbformat_minor": 2
}
