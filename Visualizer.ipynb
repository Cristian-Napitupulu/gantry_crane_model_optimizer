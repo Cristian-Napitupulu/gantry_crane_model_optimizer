{
 "cells": [
  {
   "cell_type": "code",
   "execution_count": 1,
   "metadata": {},
   "outputs": [],
   "source": [
    "import matplotlib.pyplot as plt\n",
    "import numpy as np\n",
    "import utility as ut\n",
    "from model import Simulator"
   ]
  },
  {
   "cell_type": "code",
   "execution_count": 4,
   "metadata": {},
   "outputs": [],
   "source": [
    "RESULTS_PATH = 'SGD_results/'\n",
    "DURATION = 15  # duration in seconds\n",
    "DT = 0.0001  # time increment in seconds\n",
    "simulator = Simulator(DT, DURATION)"
   ]
  },
  {
   "cell_type": "code",
   "execution_count": null,
   "metadata": {},
   "outputs": [],
   "source": [
    "# Load the best parameters\n",
    "best_parameters = ut.load_json(RESULTS_PATH + \"best_parameters.json\")\n",
    "\n",
    "# best_parameters = ut.load_json(GANTRY_CRANE_PARAMETERS_JSON_PATH)[\"gantry_crane_system_model\"][\"parameters\"]\n",
    "\n",
    "for parameter in best_parameters:\n",
    "    print(parameter, best_parameters[parameter][\"value\"], end=\", \")\n",
    "print()\n",
    "\n",
    "# Simulate the gantry crane system using the best parameters\n",
    "for index, dataset in enumerate(interpolated_datasets):\n",
    "    simulator.simulate(best_parameters, dataset[\"trolley_motor_pwm\"], dataset[\"hoist_motor_pwm\"], initial_conditions={\"x\": dataset[\"trolley_position\"][0], \"l\": dataset[\"cable_length\"][0], \"theta\": dataset[\"sway_angle\"][0]})\n",
    "    simulation_result = simulator.get_results()\n",
    "\n",
    "    # Create a figure and a set of subplots\n",
    "    figure, ax = plt.subplots(4, 2, figsize=(12, 7), sharex=True)\n",
    "    plt.rcParams.update({\"font.size\": 10})\n",
    "    figure.suptitle(f\"Dataset {index+1}\")\n",
    "    ut.add_to_subplot(ax[0, 0], simulation_result[\"time\"], simulation_result[\"trolley_motor_pwm\"], ylabel=\"PWM motor troli (simulasi)\", color=plt.get_cmap(\"tab20\")(0))\n",
    "    ut.add_to_subplot(ax[0, 1], simulation_result[\"time\"], simulation_result[\"hoist_motor_pwm\"], ylabel=\"PWM motor angkut (simulasi)\", color=plt.get_cmap(\"tab20\")(2))\n",
    "    ut.add_to_subplot(ax[1, 0], simulation_result[\"time\"], simulation_result[\"trolley_motor_voltage\"], ylabel=\"Tegangan motor troli (V) (simulasi)\", color=plt.get_cmap(\"tab20\")(4))\n",
    "    ut.add_to_subplot(ax[1, 1], simulation_result[\"time\"], simulation_result[\"hoist_motor_voltage\"], ylabel=\"Tegangan motor angkut (V) (simulasi)\", color=plt.get_cmap(\"tab20\")(6))\n",
    "    ut.add_to_subplot(ax[2, 0], simulation_result[\"time\"], simulation_result[\"trolley_position\"], ylabel=\"Posisi troli (m) (simulasi)\", color=plt.get_cmap(\"tab20\")(8))\n",
    "    ut.add_to_subplot(ax[2, 0], simulation_result[\"time\"], simulation_result[\"trolley_speed\"], ylabel=\"Kecepatan troli (m/s) (simulasi)\", color=plt.get_cmap(\"tab20\")(8), linestyle=\"--\")\n",
    "    ut.add_to_subplot(ax[2, 1], simulation_result[\"time\"], simulation_result[\"cable_length\"], ylabel=\"Panjang tali (m) (simulasi)\", color=plt.get_cmap(\"tab20\")(10))\n",
    "    ut.add_to_subplot(ax[2, 1], simulation_result[\"time\"], simulation_result[\"cable_speed\"], ylabel=\"Kecepatan tali (m/s) (simulasi)\", color=plt.get_cmap(\"tab20\")(10), linestyle=\"--\")\n",
    "    ut.add_to_subplot(ax[3, 0], simulation_result[\"time\"], simulation_result[\"sway_angle\"], \"Waktu (s)\", \"Sudut ayun (°) (simulasi)\", color=plt.get_cmap(\"tab20\")(12))\n",
    "    ut.add_to_subplot(ax[3, 1], simulation_result[\"time\"], simulation_result[\"sway_angle\"], \"Waktu (s)\", \"Sudut ayun (°) (simulasi)\", color=plt.get_cmap(\"tab20\")(12))\n",
    "\n",
    "    ut.add_to_subplot(ax[0, 0], dataset[\"time\"], dataset[\"trolley_motor_pwm\"], ylabel=\"PWM motor troli (data)\", color=plt.get_cmap(\"tab20\")(1))\n",
    "    ut.add_to_subplot(ax[0, 1], dataset[\"time\"], dataset[\"hoist_motor_pwm\"], ylabel=\"PWM motor angkut (data)\", color=plt.get_cmap(\"tab20\")(3))\n",
    "    ut.add_to_subplot(ax[1, 0], dataset[\"time\"], dataset[\"trolley_motor_voltage\"], ylabel=\"Tegangan motor troli (V) (data)\", color=plt.get_cmap(\"tab20\")(5))\n",
    "    ut.add_to_subplot(ax[1, 1], dataset[\"time\"], dataset[\"hoist_motor_voltage\"], ylabel=\"Tegangan motor angkut (V) (data)\", color=plt.get_cmap(\"tab20\")(7))\n",
    "    ut.add_to_subplot(ax[2, 0], dataset[\"time\"], dataset[\"trolley_position\"], ylabel=\"Posisi troli (m) (data)\", color=plt.get_cmap(\"tab20\")(9))\n",
    "    ut.add_to_subplot(ax[2, 0], dataset[\"time\"], dataset[\"trolley_speed\"], ylabel=\"Kecepatan troli (m/s) (data)\", color=plt.get_cmap(\"tab20\")(9), linestyle=\"--\")\n",
    "    ut.add_to_subplot(ax[2, 1], dataset[\"time\"], dataset[\"cable_length\"], ylabel=\"Panjang tali (m) (data)\", color=plt.get_cmap(\"tab20\")(11))\n",
    "    ut.add_to_subplot(ax[2, 1], dataset[\"time\"], dataset[\"cable_speed\"], ylabel=\"Kecepatan tali (m/s) (data)\", color=plt.get_cmap(\"tab20\")(11), linestyle=\"--\")\n",
    "    ut.add_to_subplot(ax[3, 0], dataset[\"time\"], dataset[\"sway_angle\"], \"Waktu (s)\", \"Sudut ayun (°) (data)\", color=plt.get_cmap(\"tab20\")(13))\n",
    "    ut.add_to_subplot(ax[3, 1], dataset[\"time\"], dataset[\"sway_angle\"], \"Waktu (s)\", \"Sudut ayun (°) (data)\", color=plt.get_cmap(\"tab20\")(13))\n",
    "    # ax[3, 0].set_ylim(-max_sway_angle, max_sway_angle)\n",
    "    # ax[3, 1].set_ylim(-max_sway_angle, max_sway_angle)\n",
    "    plt.tight_layout()\n",
    "    plt.show()"
   ]
  }
 ],
 "metadata": {
  "kernelspec": {
   "display_name": ".venv",
   "language": "python",
   "name": "python3"
  },
  "language_info": {
   "codemirror_mode": {
    "name": "ipython",
    "version": 3
   },
   "file_extension": ".py",
   "mimetype": "text/x-python",
   "name": "python",
   "nbconvert_exporter": "python",
   "pygments_lexer": "ipython3",
   "version": "3.10.12"
  }
 },
 "nbformat": 4,
 "nbformat_minor": 2
}
