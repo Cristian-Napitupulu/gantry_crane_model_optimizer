{
 "cells": [
  {
   "cell_type": "code",
   "execution_count": 1,
   "metadata": {},
   "outputs": [],
   "source": [
    "import utility as ut\n",
    "import numpy as np\n",
    "import random"
   ]
  },
  {
   "cell_type": "code",
   "execution_count": 2,
   "metadata": {},
   "outputs": [
    {
     "name": "stdout",
     "output_type": "stream",
     "text": [
      "{'Variasi ke-1': {'initial_condition': [0.2519, 0.4078, 0.0], 'setpoint': [0.6665, 0.5815]}, 'Variasi ke-2': {'initial_condition': [0.6874, 0.5781, 0.0], 'setpoint': [0.2105, 0.4397]}, 'Variasi ke-3': {'initial_condition': [0.9335, 0.4954, 0.0], 'setpoint': [0.261, 0.5535]}, 'Variasi ke-4': {'initial_condition': [0.4587, 0.4064, 0.0], 'setpoint': [1.1531, 0.507]}, 'Variasi ke-5': {'initial_condition': [1.2418, 0.4539, 0.0], 'setpoint': [0.1026, 0.5178]}, 'Variasi ke-6': {'initial_condition': [0.7257, 0.4327, 0.0], 'setpoint': [0.1669, 0.498]}, 'Variasi ke-7': {'initial_condition': [0.3219, 0.4218, 0.0], 'setpoint': [0.6137, 0.5875]}, 'Variasi ke-8': {'initial_condition': [1.2233, 0.4174, 0.0], 'setpoint': [0.3331, 0.5943]}, 'Variasi ke-9': {'initial_condition': [0.8584, 0.5288, 0.0], 'setpoint': [0.1827, 0.4483]}, 'Variasi ke-10': {'initial_condition': [0.4882, 0.4967, 0.0], 'setpoint': [0.9791, 0.5934]}}\n"
     ]
    }
   ],
   "source": [
    "NUMBER_OF_VARIATIONS = 10\n",
    "MINIMUM_DISTANCE_TROLLEY_POSITION = 0.25\n",
    "MINIMUM_DISTANCE_CABLE_LENGTH = 0.05\n",
    "\n",
    "trolley_position_range = [0, 1.25]\n",
    "cable_length_range = [0.4, 0.6]\n",
    "\n",
    "initial_conditions_variations = []\n",
    "setpoints_variations = []\n",
    "for i in range(NUMBER_OF_VARIATIONS):\n",
    "    initial_condition_variation = np.zeros(3) # [x0, l0, theta0]\n",
    "    initial_condition_variation[2] = 0.0 # theta0 = 0\n",
    "    setpoint_variation = np.zeros(2) # [x_setpoint, l_setpoint]\n",
    "    for j in range(2):\n",
    "        if j == 0: # generate initial and setpoint for trolley position\n",
    "            a = trolley_position_range[0]\n",
    "            b = trolley_position_range[1]\n",
    "            while True:\n",
    "                x0 = round(random.uniform(a, b), 4)\n",
    "                xd = round(random.uniform(a, b), 4)\n",
    "                if abs(x0 - xd) > MINIMUM_DISTANCE_TROLLEY_POSITION:\n",
    "                    initial_condition_variation[0] = x0\n",
    "                    setpoint_variation[0] = xd\n",
    "                    break\n",
    "        else: # generate initial and setpoint for cable length\n",
    "            a = cable_length_range[0]\n",
    "            b = cable_length_range[1]\n",
    "            while True:\n",
    "                x0 = round(random.uniform(a, b), 4)\n",
    "                xd = round(random.uniform(a, b), 4)\n",
    "                if abs(x0 - xd) > MINIMUM_DISTANCE_CABLE_LENGTH:\n",
    "                    initial_condition_variation[1] = x0\n",
    "                    setpoint_variation[1] = xd\n",
    "                    break\n",
    "    initial_conditions_variations.append(initial_condition_variation)\n",
    "    setpoints_variations.append(setpoint_variation)\n",
    "\n",
    "variations = {}\n",
    "for index, (initial_condition, setpoint) in enumerate(zip(initial_conditions_variations, setpoints_variations)):\n",
    "    # print(\"Initial condition: \", initial_condition)\n",
    "    # print(\"Setpoint: \", setpoint)\n",
    "    text = \"Variasi ke-\" + str(index+1)\n",
    "    variations[text] = {\n",
    "        \"initial_condition\": initial_condition.tolist(),\n",
    "        \"setpoint\": setpoint.tolist()\n",
    "    }\n",
    "\n",
    "print(variations)\n",
    "# Save the variations into json file\n",
    "ut.save_json(variations, \"variations.json\")\n"
   ]
  }
 ],
 "metadata": {
  "kernelspec": {
   "display_name": ".venv",
   "language": "python",
   "name": "python3"
  },
  "language_info": {
   "codemirror_mode": {
    "name": "ipython",
    "version": 3
   },
   "file_extension": ".py",
   "mimetype": "text/x-python",
   "name": "python",
   "nbconvert_exporter": "python",
   "pygments_lexer": "ipython3",
   "version": "3.10.12"
  }
 },
 "nbformat": 4,
 "nbformat_minor": 2
}
