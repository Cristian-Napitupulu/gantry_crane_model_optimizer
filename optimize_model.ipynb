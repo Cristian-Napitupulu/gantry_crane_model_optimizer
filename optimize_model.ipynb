{
 "cells": [
  {
   "cell_type": "markdown",
   "metadata": {},
   "source": [
    "### Import Modules"
   ]
  },
  {
   "cell_type": "code",
   "execution_count": 3,
   "metadata": {},
   "outputs": [],
   "source": [
    "import json\n",
    "import warnings\n",
    "import numpy as np\n",
    "import pandas as pd\n",
    "import matplotlib.pyplot as plt\n",
    "from tqdm import tqdm\n",
    "from numba import jit, float64\n",
    "import time\n",
    "import os"
   ]
  },
  {
   "cell_type": "markdown",
   "metadata": {},
   "source": [
    "### Open and Interpolate Real World Data"
   ]
  },
  {
   "cell_type": "code",
   "execution_count": 4,
   "metadata": {},
   "outputs": [],
   "source": [
    "def load_excel_data(directory):\n",
    "    \"\"\"\n",
    "    Load all Excel files and their sheets from the specified directory into a list of dataframes.\n",
    "\n",
    "    Parameters:\n",
    "    directory (str): The path to the folder containing the Excel files.\n",
    "\n",
    "    Returns:\n",
    "    list: A list of pandas dataframes containing the data from each sheet in the Excel files.\n",
    "    \"\"\"\n",
    "    # Initialize an empty list to store dataframes\n",
    "    datasets = []\n",
    "\n",
    "    # Iterate over each file in the directory\n",
    "    for filename in os.listdir(directory):\n",
    "        if filename.endswith('.xlsx'):\n",
    "            file_path = os.path.join(directory, filename)\n",
    "            \n",
    "            # Load the Excel file\n",
    "            excel_file = pd.ExcelFile(file_path)\n",
    "            \n",
    "            # Iterate over each sheet in the Excel file\n",
    "            for sheet_name in excel_file.sheet_names:\n",
    "                # Load the sheet into a dataframe and append to the datasets list\n",
    "                df = pd.read_excel(excel_file, sheet_name=sheet_name)\n",
    "                datasets.append(df)\n",
    "\n",
    "    return datasets\n",
    "\n",
    "def save_datasets_to_excel(datasets, output_file):\n",
    "    \"\"\"\n",
    "    Save a list of dataframes to a single Excel file with each dataframe in a separate sheet.\n",
    "\n",
    "    Parameters:\n",
    "    datasets (list): A list of tuples containing filename, sheet name, and dataframe.\n",
    "    output_file (str): The path to the output Excel file.\n",
    "    \"\"\"\n",
    "    with pd.ExcelWriter(output_file, engine='openpyxl') as writer:\n",
    "        for i, (df) in enumerate(datasets):\n",
    "            sheet_name_clean = f\"Sheet_{i}\"[:31]  # Excel sheet names must be <= 31 chars\n",
    "            df.to_excel(writer, sheet_name=sheet_name_clean, index=False)\n",
    "\n"
   ]
  },
  {
   "cell_type": "code",
   "execution_count": 5,
   "metadata": {},
   "outputs": [],
   "source": [
    "# Example usage of the function\n",
    "directory = 'data/'\n",
    "datasets = load_excel_data(directory)"
   ]
  },
  {
   "cell_type": "code",
   "execution_count": 6,
   "metadata": {},
   "outputs": [],
   "source": [
    "# for i in range(len(datasets)):\n",
    "#     plt.plot(datasets[i]['timestamp'], datasets[i]['trolley_position'], label='Trolley Position')\n",
    "#     plt.plot(datasets[i]['timestamp'], datasets[i]['cable_length'], label='Cable Length')\n",
    "#     plt.xlabel('Time')\n",
    "#     plt.legend()\n",
    "#     plt.show()"
   ]
  },
  {
   "cell_type": "code",
   "execution_count": 7,
   "metadata": {},
   "outputs": [],
   "source": [
    "DURATION = 15  # duration in seconds\n",
    "DT = 0.0001  # time increment in seconds\n",
    "# Create a time array\n",
    "time_array = np.arange(0, DURATION + DT, DT)\n",
    "NUM_STEPS = len(time_array)\n",
    "\n",
    "interpolated_datasets = []\n",
    "for i in range (len(datasets)):\n",
    "    new_trolley_position = np.interp(\n",
    "        time_array, datasets[i][\"timestamp\"], datasets[i][\"trolley_position\"]\n",
    "    )\n",
    "    new_cable_length = np.interp(\n",
    "        time_array, datasets[i][\"timestamp\"], datasets[i][\"cable_length\"]\n",
    "    )\n",
    "    new_sway_angle = np.interp(\n",
    "        time_array, datasets[i][\"timestamp\"], datasets[i][\"sway_angle\"]\n",
    "    )\n",
    "    new_trolley_motor_voltage = np.interp(\n",
    "        time_array, datasets[i][\"timestamp\"], datasets[i][\"trolley_motor_voltage\"]\n",
    "    )\n",
    "    new_hoist_motor_voltage = np.interp(\n",
    "        time_array, datasets[i][\"timestamp\"], datasets[i][\"hoist_motor_voltage\"]\n",
    "    )\n",
    "\n",
    "    interpolated_df = pd.DataFrame(\n",
    "        {\n",
    "            \"time\": time_array,\n",
    "            \"trolley_position\": new_trolley_position,\n",
    "            \"cable_length\": new_cable_length,\n",
    "            \"sway_angle\": new_sway_angle,\n",
    "            \"trolley_motor_voltage\": new_trolley_motor_voltage,\n",
    "            \"hoist_motor_voltage\": new_hoist_motor_voltage,\n",
    "        }\n",
    "    )\n",
    "\n",
    "    interpolated_datasets.append(interpolated_df)"
   ]
  },
  {
   "cell_type": "code",
   "execution_count": 8,
   "metadata": {},
   "outputs": [],
   "source": [
    "# for i in range(len(interpolated_datasets)):\n",
    "#     plt.plot(interpolated_datasets[i]['time'], interpolated_datasets[i]['trolley_position'], label='Trolley Position')\n",
    "#     plt.plot(interpolated_datasets[i]['time'], interpolated_datasets[i]['cable_length'], label='Cable Length')\n",
    "#     plt.xlabel('Time')\n",
    "#     plt.legend()\n",
    "#     plt.show()"
   ]
  },
  {
   "cell_type": "code",
   "execution_count": 9,
   "metadata": {},
   "outputs": [],
   "source": [
    "# save_datasets_to_excel(interpolated_datasets, 'interpolated_datasets.xlsx')"
   ]
  },
  {
   "cell_type": "markdown",
   "metadata": {},
   "source": [
    "### Open and Set Model Parameters"
   ]
  },
  {
   "cell_type": "code",
   "execution_count": 10,
   "metadata": {},
   "outputs": [],
   "source": [
    "# Open the JSON file\n",
    "with open(\"gantry_crane_parameters.json\", \"r\") as file:\n",
    "    data = json.load(file)\n",
    "\n",
    "all_parameters = data[\"gantry_crane_system_model\"][\"parameters\"]\n",
    "measured_parameters = {}\n",
    "approximated_parameters = {}\n",
    "\n",
    "for parameter in all_parameters:\n",
    "    value = all_parameters[parameter][\"value\"]\n",
    "    unit = all_parameters[parameter][\"unit\"]\n",
    "    description = all_parameters[parameter][\"description\"]\n",
    "\n",
    "    if all_parameters[parameter][\"measured\"]:\n",
    "        measured_parameters[parameter] = all_parameters[parameter]\n",
    "    else:\n",
    "        approximated_parameters[parameter] = all_parameters[parameter]\n",
    "\n",
    "    # print(f\"{parameter}: {value} {unit} ({description})\")"
   ]
  },
  {
   "cell_type": "markdown",
   "metadata": {},
   "source": [
    "##### Optimized Function to Calculate Squared Error"
   ]
  },
  {
   "cell_type": "code",
   "execution_count": 11,
   "metadata": {},
   "outputs": [],
   "source": [
    "@jit(nopython=True)\n",
    "def calculate_squared_errors(y1, y2):\n",
    "    squared_errors = np.zeros(len(y1))\n",
    "    for i in range(len(y1)):\n",
    "        squared_errors[i] = (y1[i] - y2[i]) ** 2\n",
    "    return squared_errors"
   ]
  },
  {
   "cell_type": "markdown",
   "metadata": {},
   "source": [
    "##### Optimized Function to Calculate Sum Root Mean Squared Error (RMSE)"
   ]
  },
  {
   "cell_type": "code",
   "execution_count": 12,
   "metadata": {},
   "outputs": [],
   "source": [
    "@jit(nopython=True)\n",
    "def calculate_sum_root_mean_squared_errors(dataframe_header_, interpolated_array_, simulated_array_):\n",
    "    sum_root_mean_squared_errors = 0.0\n",
    "    for i in range (1, len(dataframe_header_)):\n",
    "        y1 = interpolated_array_[i]\n",
    "        y2 = simulated_array_[i]\n",
    "        root_mean_squared_errors = np.sqrt(sum(calculate_squared_errors(y1, y2))/len(y1))\n",
    "        sum_root_mean_squared_errors += root_mean_squared_errors\n",
    "    return sum_root_mean_squared_errors"
   ]
  },
  {
   "cell_type": "markdown",
   "metadata": {},
   "source": [
    "### Define Searching Range to Optimize Model Parameters"
   ]
  },
  {
   "cell_type": "code",
   "execution_count": 13,
   "metadata": {},
   "outputs": [],
   "source": [
    "optimize_range = {\n",
    "    \"trolley_mass\": (1.0, 5.0), # Done\n",
    "    \"trolley_damping_coefficient\": (0.1, 10.0), # Done\n",
    "    \"cable_damping_coefficient\": (0.1, 10.0), # Done\n",
    "    \"trolley_motor_rotator_inertia\": (0.00001, 0.001), # Done\n",
    "    \"trolley_motor_damping_coefficient\": (0.1, 10.0),\n",
    "    \"trolley_motor_back_emf_constant\": (0.001, 0.1), # Done\n",
    "    \"trolley_motor_torque_constant\": (0.01, 1.0), # Done\n",
    "    \"hoist_motor_rotator_inertia\": (0.000001, 0.0001), # Done\n",
    "    \"hoist_motor_damping_coefficient\": (0.1, 10.0),\n",
    "    \"hoist_motor_back_emf_constant\": (0.01, 1.0), # Done\n",
    "    \"hoist_motor_torque_constant\": (0.0001, 0.01),  # Done\n",
    "}"
   ]
  },
  {
   "cell_type": "markdown",
   "metadata": {},
   "source": [
    "### Declare Simulator Object"
   ]
  },
  {
   "cell_type": "code",
   "execution_count": 14,
   "metadata": {},
   "outputs": [],
   "source": [
    "from model import Simulator\n",
    "simulator = Simulator(DT, NUM_STEPS)"
   ]
  },
  {
   "cell_type": "markdown",
   "metadata": {},
   "source": [
    "## Simulated Annealing"
   ]
  },
  {
   "cell_type": "code",
   "execution_count": null,
   "metadata": {},
   "outputs": [],
   "source": []
  },
  {
   "cell_type": "markdown",
   "metadata": {},
   "source": [
    "## Gradient Descent"
   ]
  },
  {
   "cell_type": "markdown",
   "metadata": {},
   "source": [
    "### Define learning rate for each parameter"
   ]
  },
  {
   "cell_type": "code",
   "execution_count": 15,
   "metadata": {},
   "outputs": [
    {
     "name": "stdout",
     "output_type": "stream",
     "text": [
      "Learning rate: {'trolley_mass': 0.1, 'trolley_damping_coefficient': 0.01, 'cable_damping_coefficient': 0.01, 'trolley_motor_rotator_inertia': 1.0000000000000002e-06, 'trolley_motor_damping_coefficient': 0.01, 'trolley_motor_back_emf_constant': 0.0001, 'trolley_motor_torque_constant': 0.001, 'hoist_motor_rotator_inertia': 1e-07, 'hoist_motor_damping_coefficient': 0.01, 'hoist_motor_back_emf_constant': 0.001, 'hoist_motor_torque_constant': 1e-05}\n",
      "Initial value: {'trolley_mass': 1.2608458049073938, 'trolley_damping_coefficient': 6.632568419460295, 'cable_damping_coefficient': 6.6717631972198825, 'trolley_motor_rotator_inertia': 0.00058743060930506, 'trolley_motor_damping_coefficient': 7.925188640423019, 'trolley_motor_back_emf_constant': 0.031757111381649654, 'trolley_motor_torque_constant': 0.1823490092584857, 'hoist_motor_rotator_inertia': 9.112077230302628e-06, 'hoist_motor_damping_coefficient': 0.2712427780755701, 'hoist_motor_back_emf_constant': 0.6840380649407936, 'hoist_motor_torque_constant': 0.0025452333001299184}\n"
     ]
    }
   ],
   "source": [
    "parameters_learning_rate = {}\n",
    "\n",
    "for parameter in optimize_range:\n",
    "    parameters_learning_rate[parameter] = min(optimize_range[parameter]) / 10\n",
    "\n",
    "print(\"Learning rate:\", parameters_learning_rate)\n",
    "\n",
    "# Create random value for each parameter within the specified range\n",
    "random_parameters = {}\n",
    "for parameter in optimize_range:\n",
    "    random_parameters[parameter] = np.random.uniform(\n",
    "        optimize_range[parameter][0], optimize_range[parameter][1]\n",
    "    )\n",
    "\n",
    "print(\"Initial value:\", random_parameters)"
   ]
  },
  {
   "cell_type": "code",
   "execution_count": 16,
   "metadata": {},
   "outputs": [],
   "source": [
    "optimized_parameters = all_parameters\n",
    "\n",
    "for parameter in random_parameters:\n",
    "    optimized_parameters[parameter][\"value\"] = random_parameters[parameter]\n",
    "\n",
    "old_parameter = optimized_parameters"
   ]
  },
  {
   "cell_type": "code",
   "execution_count": 17,
   "metadata": {},
   "outputs": [
    {
     "name": "stdout",
     "output_type": "stream",
     "text": [
      "Interpolated array shape: (150001, 6)\n",
      "Dataframe header: Index(['time', 'trolley_position', 'cable_length', 'sway_angle',\n",
      "       'trolley_motor_voltage', 'hoist_motor_voltage'],\n",
      "      dtype='object')\n"
     ]
    },
    {
     "ename": "",
     "evalue": "",
     "output_type": "error",
     "traceback": [
      "\u001b[1;31mThe Kernel crashed while executing code in the current cell or a previous cell. \n",
      "\u001b[1;31mPlease review the code in the cell(s) to identify a possible cause of the failure. \n",
      "\u001b[1;31mClick <a href='https://aka.ms/vscodeJupyterKernelCrash'>here</a> for more info. \n",
      "\u001b[1;31mView Jupyter <a href='command:jupyter.viewOutput'>log</a> for further details."
     ]
    }
   ],
   "source": [
    "interpolated_array = interpolated_datasets[0].values\n",
    "dataframe_header = interpolated_datasets[0].columns\n",
    "\n",
    "print(\"Interpolated array shape:\", interpolated_array.shape)\n",
    "print(\"Dataframe header:\", dataframe_header)"
   ]
  },
  {
   "cell_type": "markdown",
   "metadata": {},
   "source": [
    "#### Optimize Model Parameters with Gradient Descent Algoritm"
   ]
  },
  {
   "cell_type": "code",
   "execution_count": 18,
   "metadata": {},
   "outputs": [],
   "source": [
    "num_steps = len(interpolated_array[0])\n",
    "input_voltages = {'trolley_motor_voltage': interpolated_array[4], 'hoist_motor_voltage': interpolated_array[5]}\n",
    "variables_initial_conditions = {'x': interpolated_array[1][0], 'l': interpolated_array[2][0], 'theta': interpolated_array[3][0]}\n",
    "epoch = 0\n",
    "count = 0\n",
    "epochs = []\n",
    "total_sum_root_mean_squared_errors_array = []\n",
    "while epoch <= 2000:\n",
    "    steps = 0\n",
    "    total_sum_root_mean_squared_errors = 0\n",
    "    for parameter in optimize_range:\n",
    "        simulator.simulate(optimized_parameters, input_voltages, variables_initial_conditions)\n",
    "        simulated_array = simulator.get_results_for_optimization()\n",
    "\n",
    "        sum_root_mean_squared_errors = calculate_sum_root_mean_squared_errors(\n",
    "            dataframe_header, interpolated_array, simulated_array\n",
    "        )\n",
    "\n",
    "        # Calculate the cost function derivative relative to parameter value\n",
    "        h = 1e-6\n",
    "        optimized_parameters[parameter][\"value\"] += h\n",
    "        simulator.simulate(optimized_parameters, input_voltages, variables_initial_conditions)\n",
    "        simulated_array_h = simulator.get_results_for_optimization()\n",
    "\n",
    "        sum_root_mean_squared_errors_h = calculate_sum_root_mean_squared_errors(\n",
    "            dataframe_header, interpolated_array, simulated_array_h\n",
    "        )\n",
    "\n",
    "        derivative = (sum_root_mean_squared_errors_h - sum_root_mean_squared_errors) / h\n",
    "\n",
    "        # print(derivative)\n",
    "\n",
    "        steps = parameters_learning_rate[parameter] * derivative\n",
    "        optimized_parameters[parameter][\"steps\"] = steps\n",
    "        optimized_parameters[parameter][\"value\"] -= steps\n",
    "\n",
    "        # print(end=\"\\r\")\n",
    "        # print(\n",
    "        #     \"Parameter:\",\n",
    "        #     parameter,\n",
    "        #     \"| Value:\",\n",
    "        #     optimized_parameters[parameter][\"value\"],\n",
    "        #     \"| Loss:\",\n",
    "        #     sum_root_mean_squared_errors,\n",
    "        #     \"Step size:\",\n",
    "        #     steps,\n",
    "        #     end=\"\\r\",\n",
    "        # )\n",
    "\n",
    "        total_sum_root_mean_squared_errors += sum_root_mean_squared_errors\n",
    "\n",
    "    count = 0\n",
    "    for parameter in optimize_range:\n",
    "        if abs(optimized_parameters[parameter][\"steps\"]) < 1e-6:\n",
    "            count += 1\n",
    "\n",
    "    print(\n",
    "            \"Epoch:\",\n",
    "            epoch,\n",
    "            \"\\t| Total loss:\",\n",
    "            round(total_sum_root_mean_squared_errors, 6),\n",
    "            \"\\t| Converge count:\",\n",
    "            count,\n",
    "            end=\"\\r\",\n",
    "        )\n",
    "    \n",
    "    if count == len(optimized_parameters):\n",
    "        break\n",
    "\n",
    "    epochs.append(epoch)\n",
    "    total_sum_root_mean_squared_errors_array.append(total_sum_root_mean_squared_errors)\n",
    "\n",
    "    epoch += 1"
   ]
  },
  {
   "cell_type": "code",
   "execution_count": null,
   "metadata": {},
   "outputs": [],
   "source": [
    "plt.plot(epochs, total_sum_root_mean_squared_errors_array)\n",
    "plt.show()"
   ]
  },
  {
   "cell_type": "code",
   "execution_count": null,
   "metadata": {},
   "outputs": [],
   "source": [
    "json_string = json.dumps(optimized_parameters, indent=4)\n",
    "\n",
    "# Step 3: Write the JSON string to a file\n",
    "with open(\"optimized_parameter.json\", \"w\") as json_file:\n",
    "    json_file.write(json_string)\n",
    "\n",
    "for parameter in optimized_parameters:\n",
    "    # print(parameter)\n",
    "    if (\n",
    "        old_parameter[parameter][\"value\"]\n",
    "        != optimized_parameters[parameter][\"value\"]\n",
    "    ):\n",
    "        print(\"Old\", parameter, \"value:\", old_parameter[parameter][\"value\"])\n",
    "        print(\"Old\", parameter, \"value:\", optimized_parameters[parameter][\"value\"])"
   ]
  },
  {
   "cell_type": "markdown",
   "metadata": {},
   "source": [
    "### Simulate Optimized Parameters and Compare to Real Data"
   ]
  },
  {
   "cell_type": "code",
   "execution_count": null,
   "metadata": {},
   "outputs": [],
   "source": [
    "num_steps = len(interpolated_array[0])\n",
    "input_voltages = {\n",
    "    \"trolley_motor_voltage\": interpolated_array[4],\n",
    "    \"hoist_motor_voltage\": interpolated_array[5],\n",
    "}\n",
    "variables_initial_conditions = {\n",
    "    \"x\": interpolated_array[1][0],\n",
    "    \"l\": interpolated_array[2][0],\n",
    "    \"theta\": interpolated_array[3][0],\n",
    "}\n",
    "simulator.simulate(all_parameters, input_voltages, variables_initial_conditions)\n",
    "\n",
    "simulated_array = simulator.get_results_for_optimization()\n",
    "for i in range(1, len(dataframe_header)):\n",
    "    y1 = np.array(interpolated_array[i])\n",
    "    y2 = np.array(simulated_array[i])\n",
    "\n",
    "    plt.plot(time_array, y1, label=f\"Interpolated {dataframe_header[i]}\")\n",
    "    plt.plot(time_array, y2, label=f\"Simulated {dataframe_header[i]}\")\n",
    "    plt.legend()\n",
    "    plt.show()"
   ]
  }
 ],
 "metadata": {
  "kernelspec": {
   "display_name": ".venv",
   "language": "python",
   "name": "python3"
  },
  "language_info": {
   "codemirror_mode": {
    "name": "ipython",
    "version": 3
   },
   "file_extension": ".py",
   "mimetype": "text/x-python",
   "name": "python",
   "nbconvert_exporter": "python",
   "pygments_lexer": "ipython3",
   "version": "3.11.9"
  }
 },
 "nbformat": 4,
 "nbformat_minor": 2
}
