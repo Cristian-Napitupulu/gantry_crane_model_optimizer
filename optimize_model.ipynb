{
 "cells": [
  {
   "cell_type": "markdown",
   "metadata": {},
   "source": [
    "### Import Modules"
   ]
  },
  {
   "cell_type": "code",
   "execution_count": 2,
   "metadata": {},
   "outputs": [],
   "source": [
    "import json\n",
    "import numpy as np\n",
    "import pandas as pd\n",
    "import matplotlib.pyplot as plt\n",
    "from numba import jit, float64\n",
    "import time\n",
    "import os"
   ]
  },
  {
   "cell_type": "markdown",
   "metadata": {},
   "source": [
    "### Open and Interpolate Real World Data"
   ]
  },
  {
   "cell_type": "code",
   "execution_count": 3,
   "metadata": {},
   "outputs": [],
   "source": [
    "def load_excel_data(directory):\n",
    "    \"\"\"\n",
    "    Load all Excel files and their sheets from the specified directory into a list of dataframes.\n",
    "\n",
    "    Parameters:\n",
    "    directory (str): The path to the folder containing the Excel files.\n",
    "\n",
    "    Returns:\n",
    "    list: A list of pandas dataframes containing the data from each sheet in the Excel files.\n",
    "    \"\"\"\n",
    "    # Initialize an empty list to store dataframes\n",
    "    datasets = []\n",
    "    # Iterate over each file in the directory\n",
    "    for filename in os.listdir(directory):\n",
    "        if filename.endswith(\".xlsx\"):\n",
    "            file_path = os.path.join(directory, filename)\n",
    "\n",
    "            # Load the Excel file\n",
    "            excel_file = pd.ExcelFile(file_path)\n",
    "\n",
    "            # Iterate over each sheet in the Excel file\n",
    "            for sheet_name in excel_file.sheet_names:\n",
    "                # Load the sheet into a dataframe and append to the datasets list\n",
    "                df = pd.read_excel(excel_file, sheet_name=sheet_name)\n",
    "                datasets.append(df)\n",
    "\n",
    "    return datasets\n",
    "\n",
    "\n",
    "def save_datasets_to_excel(datasets, output_file):\n",
    "    \"\"\"\n",
    "    Save a list of dataframes to a single Excel file with each dataframe in a separate sheet.\n",
    "\n",
    "    Parameters:\n",
    "    datasets (list): A list of tuples containing filename, sheet name, and dataframe.\n",
    "    output_file (str): The path to the output Excel file.\n",
    "    \"\"\"\n",
    "    with pd.ExcelWriter(output_file, engine=\"openpyxl\") as writer:\n",
    "        for i, (df) in enumerate(datasets):\n",
    "            sheet_name_clean = f\"Sheet_{i}\"[\n",
    "                :31\n",
    "            ]  # Excel sheet names must be <= 31 chars\n",
    "            df.to_excel(writer, sheet_name=sheet_name_clean, index=False)"
   ]
  },
  {
   "cell_type": "code",
   "execution_count": 4,
   "metadata": {},
   "outputs": [],
   "source": [
    "# Example usage of the function\n",
    "directory = \"data/\"\n",
    "datasets = load_excel_data(directory)"
   ]
  },
  {
   "cell_type": "code",
   "execution_count": 5,
   "metadata": {},
   "outputs": [],
   "source": [
    "# for i in range(len(datasets)):\n",
    "#     plt.plot(datasets[i]['timestamp'], datasets[i]['trolley_position'], label='Trolley Position')\n",
    "#     plt.plot(datasets[i]['timestamp'], datasets[i]['cable_length'], label='Cable Length')\n",
    "#     plt.xlabel('Time')\n",
    "#     plt.legend()\n",
    "#     plt.show()"
   ]
  },
  {
   "cell_type": "code",
   "execution_count": 6,
   "metadata": {},
   "outputs": [],
   "source": [
    "DURATION = 15  # duration in seconds\n",
    "DT = 0.0001  # time increment in seconds\n",
    "# Create a time array\n",
    "time_array = np.arange(0, DURATION + DT, DT)\n",
    "NUM_STEPS = len(time_array)\n",
    "\n",
    "interpolated_datasets = [None] * len(datasets)\n",
    "for i in range(len(datasets)):\n",
    "    new_trolley_position = np.interp(\n",
    "        time_array, datasets[i][\"timestamp\"], datasets[i][\"trolley_position\"]\n",
    "    )\n",
    "    new_cable_length = np.interp(\n",
    "        time_array, datasets[i][\"timestamp\"], datasets[i][\"cable_length\"]\n",
    "    )\n",
    "    new_sway_angle = np.interp(\n",
    "        time_array, datasets[i][\"timestamp\"], datasets[i][\"sway_angle\"]\n",
    "    )\n",
    "    new_trolley_motor_voltage = np.interp(\n",
    "        time_array, datasets[i][\"timestamp\"], datasets[i][\"trolley_motor_voltage\"]\n",
    "    )\n",
    "    new_hoist_motor_voltage = np.interp(\n",
    "        time_array, datasets[i][\"timestamp\"], datasets[i][\"hoist_motor_voltage\"]\n",
    "    )\n",
    "\n",
    "    interpolated_df = {\n",
    "        \"time\": time_array,\n",
    "        \"trolley_position\": new_trolley_position,\n",
    "        \"cable_length\": new_cable_length,\n",
    "        \"sway_angle\": new_sway_angle,\n",
    "        \"trolley_motor_voltage\": new_trolley_motor_voltage,\n",
    "        \"hoist_motor_voltage\": new_hoist_motor_voltage,\n",
    "    }\n",
    "\n",
    "    interpolated_datasets[i] = interpolated_df"
   ]
  },
  {
   "cell_type": "code",
   "execution_count": 7,
   "metadata": {},
   "outputs": [],
   "source": [
    "# for i in range(len(interpolated_datasets)):\n",
    "#     plt.plot(interpolated_datasets[i]['time'], interpolated_datasets[i]['trolley_position'], label='Trolley Position')\n",
    "#     plt.plot(interpolated_datasets[i]['time'], interpolated_datasets[i]['cable_length'], label='Cable Length')\n",
    "#     plt.xlabel('Time')\n",
    "#     plt.legend()\n",
    "#     plt.show()"
   ]
  },
  {
   "cell_type": "code",
   "execution_count": 8,
   "metadata": {},
   "outputs": [],
   "source": [
    "# save_datasets_to_excel(interpolated_datasets, 'interpolated_datasets.xlsx')"
   ]
  },
  {
   "cell_type": "markdown",
   "metadata": {},
   "source": [
    "### Open and Set Model Parameters"
   ]
  },
  {
   "cell_type": "code",
   "execution_count": 9,
   "metadata": {},
   "outputs": [],
   "source": [
    "# Open the JSON file\n",
    "with open(\"gantry_crane_parameters.json\", \"r\") as file:\n",
    "    data = json.load(file)\n",
    "\n",
    "global all_parameters\n",
    "all_parameters = data[\"gantry_crane_system_model\"][\"parameters\"]\n",
    "measured_parameters = {}\n",
    "approximated_parameters = {}\n",
    "\n",
    "for parameter in all_parameters:\n",
    "    value = all_parameters[parameter][\"value\"]\n",
    "    unit = all_parameters[parameter][\"unit\"]\n",
    "    description = all_parameters[parameter][\"description\"]\n",
    "\n",
    "    if all_parameters[parameter][\"measured\"]:\n",
    "        measured_parameters[parameter] = all_parameters[parameter]\n",
    "    else:\n",
    "        approximated_parameters[parameter] = all_parameters[parameter]\n",
    "\n",
    "    # print(f\"{parameter}: {value} {unit} ({description})\")"
   ]
  },
  {
   "cell_type": "markdown",
   "metadata": {},
   "source": [
    "### Declare Simulator Object"
   ]
  },
  {
   "cell_type": "code",
   "execution_count": 10,
   "metadata": {},
   "outputs": [],
   "source": [
    "from model import Simulator\n",
    "import utility as util\n",
    "\n",
    "simulator = Simulator(DT, NUM_STEPS)\n",
    "\n",
    "\n",
    "def cost_function(params, data_arrs):\n",
    "    \"\"\"\n",
    "    Cost function is the average of the sum of the root mean squared errors between the interpolated data and the simulated data.\n",
    "    \"\"\"\n",
    "    total_sum_RMSE = 0.0\n",
    "    for i in range(len(data_arrs)):\n",
    "        # Extract the parameters\n",
    "        input_voltages = {\n",
    "            \"trolley_motor_voltage\": data_arrs[i][\"trolley_motor_voltage\"],\n",
    "            \"hoist_motor_voltage\": data_arrs[i][\"hoist_motor_voltage\"],\n",
    "        }\n",
    "        var_init_conditions = {\n",
    "            \"x\": data_arrs[i][\"trolley_position\"][0],\n",
    "            \"l\": data_arrs[i][\"cable_length\"][0],\n",
    "            \"theta\": data_arrs[i][\"sway_angle\"][0],\n",
    "        }\n",
    "        # print(f\"Simulating dataset {i} with parameters: {params}\")\n",
    "        # print(f\"Inital conditions: {var_init_conditions}\")\n",
    "        simulator.simulate(params, input_voltages, var_init_conditions)\n",
    "        simulation_results = simulator.get_results()\n",
    "        sum_RMSE = util.calculate_sum_root_mean_squared_errors(\n",
    "            pd.DataFrame(simulation_results), pd.DataFrame(data_arrs[i])\n",
    "        )  # Skip the first row because it is time column\n",
    "        print(f\"Sum RMSE of dataset {i}: \\t{round(sum_RMSE, 5)}\", end=\"\\r\")\n",
    "\n",
    "        if np.isnan(sum_RMSE):\n",
    "            print(f\"Sum RMSE of dataset {i} is NaN\")\n",
    "            return np.inf\n",
    "\n",
    "        total_sum_RMSE += sum_RMSE\n",
    "    return total_sum_RMSE / len(data_arrs)"
   ]
  },
  {
   "cell_type": "markdown",
   "metadata": {},
   "source": [
    "### Define Searching Range to Optimize Model Parameters"
   ]
  },
  {
   "cell_type": "code",
   "execution_count": 11,
   "metadata": {},
   "outputs": [],
   "source": [
    "optimize_range = {\n",
    "    \"trolley_mass\": (1.0, 5.0),  # Done\n",
    "    \"trolley_damping_coefficient\": (0.1, 10.0),  # Done\n",
    "    \"cable_damping_coefficient\": (0.1, 10.0),  # Done\n",
    "    \"trolley_motor_rotator_inertia\": (0.00001, 0.001),  # Done\n",
    "    \"trolley_motor_damping_coefficient\": (0.1, 10.0),\n",
    "    \"trolley_motor_back_emf_constant\": (0.001, 0.1),  # Done\n",
    "    \"trolley_motor_torque_constant\": (0.01, 1.0),  # Done\n",
    "    \"hoist_motor_rotator_inertia\": (0.000001, 0.0001),  # Done\n",
    "    \"hoist_motor_damping_coefficient\": (0.1, 10.0),\n",
    "    \"hoist_motor_back_emf_constant\": (0.01, 1.0),  # Done\n",
    "    \"hoist_motor_torque_constant\": (0.0001, 0.01),  # Done\n",
    "}"
   ]
  },
  {
   "cell_type": "code",
   "execution_count": 12,
   "metadata": {},
   "outputs": [
    {
     "name": "stdout",
     "output_type": "stream",
     "text": [
      "{'trolley_mass': 1.024085351057821, 'trolley_damping_coefficient': 0.35751168663807065, 'cable_damping_coefficient': 5.3065995529933625, 'trolley_motor_rotator_inertia': 8.956759144140889e-05, 'trolley_motor_damping_coefficient': 2.513099236243826, 'trolley_motor_back_emf_constant': 0.05292513745887575, 'trolley_motor_torque_constant': 0.033171181428658096, 'hoist_motor_rotator_inertia': 5.113027644438465e-06, 'hoist_motor_damping_coefficient': 4.499480054713645, 'hoist_motor_back_emf_constant': 0.1483741247206421, 'hoist_motor_torque_constant': 0.008777728183561106}\n"
     ]
    }
   ],
   "source": [
    "random_parameters = {}\n",
    "for parameter in optimize_range:\n",
    "    random_parameters[parameter] = np.random.uniform(\n",
    "        optimize_range[parameter][0], optimize_range[parameter][1]\n",
    "    )\n",
    "\n",
    "print(random_parameters)"
   ]
  },
  {
   "cell_type": "code",
   "execution_count": 13,
   "metadata": {},
   "outputs": [
    {
     "name": "stdout",
     "output_type": "stream",
     "text": [
      "trolley_mass: 5.2020400203322685\n",
      "container_mass: 1.128\n",
      "trolley_damping_coefficient: 7.210939857316306\n",
      "cable_damping_coefficient: 10.37551174283613\n",
      "gravity_acceleration: 9.81\n",
      "trolley_motor_inductance: 0.0001048\n",
      "trolley_motor_resistance: 0.39\n",
      "trolley_motor_rotator_inertia: 3.2609905613243114e-05\n",
      "trolley_motor_damping_coefficient: 0.2961763471291016\n",
      "trolley_motor_pulley_radius: 0.015\n",
      "trolley_motor_torque_constant: 0.36374170475470263\n",
      "trolley_motor_back_emf_constant: 0.0928380103517002\n",
      "hoist_motor_inductance: 0.0073\n",
      "hoist_motor_resistance: 9.5\n",
      "hoist_motor_rotator_inertia: 8.42961563284119e-05\n",
      "hoist_motor_damping_coefficient: 4.878663555367497\n",
      "hoist_motor_pulley_radius: 0.015\n",
      "hoist_motor_torque_constant: 0.003250129418430399\n",
      "hoist_motor_back_emf_constant: 0.7872492957957005\n"
     ]
    }
   ],
   "source": [
    "# Open the JSON file\n",
    "with open(\"best_SA_optimized_parameters.json\", \"r\") as file:\n",
    "    data = json.load(file)\n",
    "\n",
    "for parameter in data:\n",
    "    all_parameters[parameter][\"value\"] = data[parameter][\"value\"]\n",
    "    print(f\"{parameter}: {all_parameters[parameter]['value']}\")"
   ]
  },
  {
   "cell_type": "markdown",
   "metadata": {},
   "source": [
    "## Simulated Annealing"
   ]
  },
  {
   "cell_type": "code",
   "execution_count": 14,
   "metadata": {},
   "outputs": [],
   "source": [
    "INITIAL_TEMPERATURE = 5.0\n",
    "COOLING_RATE = 0.995\n",
    "MAX_ITERATION = 1000"
   ]
  },
  {
   "cell_type": "code",
   "execution_count": 15,
   "metadata": {},
   "outputs": [
    {
     "name": "stdout",
     "output_type": "stream",
     "text": [
      "Setting trolley_mass to 5.2020400203322685\n",
      "Setting container_mass to 1.128\n",
      "Setting trolley_damping_coefficient to 7.210939857316306\n",
      "Setting cable_damping_coefficient to 10.37551174283613\n",
      "Setting gravity_acceleration to 9.81\n",
      "Setting trolley_motor_inductance to 0.0001048\n",
      "Setting trolley_motor_resistance to 0.39\n",
      "Setting trolley_motor_rotator_inertia to 3.2609905613243114e-05\n",
      "Setting trolley_motor_damping_coefficient to 0.2961763471291016\n",
      "Setting trolley_motor_pulley_radius to 0.015\n",
      "Setting trolley_motor_torque_constant to 0.36374170475470263\n",
      "Setting trolley_motor_back_emf_constant to 0.0928380103517002\n",
      "Setting hoist_motor_inductance to 0.0073\n",
      "Setting hoist_motor_resistance to 9.5\n",
      "Setting hoist_motor_rotator_inertia to 8.42961563284119e-05\n",
      "Setting hoist_motor_damping_coefficient to 4.878663555367497\n",
      "Setting hoist_motor_pulley_radius to 0.015\n",
      "Setting hoist_motor_torque_constant to 0.003250129418430399\n",
      "Setting hoist_motor_back_emf_constant to 0.7872492957957005\n",
      "Initial cost: 0.3530293211866695\n"
     ]
    }
   ],
   "source": [
    "current_temperature = INITIAL_TEMPERATURE\n",
    "\n",
    "# Create a list of parameters to optimize\n",
    "current_parameters = all_parameters\n",
    "for parameter in approximated_parameters:\n",
    "    current_parameters[parameter][\"value\"] = all_parameters[parameter][\"value\"]\n",
    "\n",
    "for parameter in current_parameters:\n",
    "    print(f\"Setting {parameter} to {current_parameters[parameter]['value']}\")\n",
    "\n",
    "current_cost = cost_function(current_parameters, interpolated_datasets[:10])\n",
    "print(\"Initial cost:\", current_cost)\n",
    "\n",
    "global best_parameters; best_parameters = current_parameters\n",
    "best_cost = current_cost"
   ]
  },
  {
   "cell_type": "code",
   "execution_count": 16,
   "metadata": {},
   "outputs": [
    {
     "name": "stdout",
     "output_type": "stream",
     "text": [
      "Iteration: 0, Cost: 0.3774290886311908, Best Cost: 0.3530293211866695\n",
      "____________________________________________________________________________________________________\n",
      "Iteration: 1, Cost: 0.4427723066756659, Best Cost: 0.3530293211866695\n",
      "____________________________________________________________________________________________________\n",
      "Iteration: 2, Cost: 0.48921806122063954, Best Cost: 0.3530293211866695\n",
      "____________________________________________________________________________________________________\n",
      "Iteration: 3, Cost: 0.5341139482707888, Best Cost: 0.3530293211866695\n",
      "____________________________________________________________________________________________________\n",
      "Iteration: 4, Cost: 0.9508790970694843, Best Cost: 0.3530293211866695\n",
      "____________________________________________________________________________________________________\n",
      "Iteration: 5, Cost: 1.6947890134782617, Best Cost: 0.3530293211866695\n",
      "____________________________________________________________________________________________________\n",
      "Iteration: 6, Cost: 0.9762573110357241, Best Cost: 0.3530293211866695\n",
      "____________________________________________________________________________________________________\n",
      "Iteration: 7, Cost: 1.8442974975760091, Best Cost: 0.3530293211866695\n",
      "____________________________________________________________________________________________________\n",
      "Iteration: 8, Cost: 1.2870198634463557, Best Cost: 0.3530293211866695\n",
      "____________________________________________________________________________________________________\n",
      "Iteration: 9, Cost: 0.9029585491628632, Best Cost: 0.3530293211866695\n",
      "____________________________________________________________________________________________________\n",
      "Iteration: 10, Cost: 2.0888249206625296, Best Cost: 0.3530293211866695\n",
      "____________________________________________________________________________________________________\n",
      "Iteration: 11, Cost: 0.8984415990106365, Best Cost: 0.3530293211866695\n",
      "____________________________________________________________________________________________________\n",
      "Iteration: 12, Cost: 0.5948090621669297, Best Cost: 0.3530293211866695\n",
      "____________________________________________________________________________________________________\n",
      "Iteration: 13, Cost: 0.648248279057754, Best Cost: 0.3530293211866695\n",
      "____________________________________________________________________________________________________\n",
      "Iteration: 14, Cost: 0.5791473289141674, Best Cost: 0.3530293211866695\n",
      "____________________________________________________________________________________________________\n",
      "Iteration: 15, Cost: 1.0801989484759034, Best Cost: 0.3530293211866695\n",
      "____________________________________________________________________________________________________\n",
      "Iteration: 16, Cost: 1.3116590989801789, Best Cost: 0.3530293211866695\n",
      "____________________________________________________________________________________________________\n",
      "Iteration: 17, Cost: 0.9009871858545507, Best Cost: 0.3530293211866695\n",
      "____________________________________________________________________________________________________\n",
      "Iteration: 18, Cost: 1.9129901532763136, Best Cost: 0.3530293211866695\n",
      "____________________________________________________________________________________________________\n",
      "Iteration: 19, Cost: 0.9064465043549269, Best Cost: 0.3530293211866695\n",
      "____________________________________________________________________________________________________\n",
      "Iteration: 20, Cost: 0.9064465043549269, Best Cost: 0.3530293211866695\n",
      "____________________________________________________________________________________________________\n",
      "Iteration: 21, Cost: 0.5426721111096121, Best Cost: 0.3530293211866695\n",
      "____________________________________________________________________________________________________\n",
      "Iteration: 22, Cost: 0.4041355973555909, Best Cost: 0.3530293211866695\n",
      "____________________________________________________________________________________________________\n",
      "Iteration: 23, Cost: 0.6686318253072066, Best Cost: 0.3530293211866695\n",
      "____________________________________________________________________________________________________\n",
      "Iteration: 24, Cost: 0.7898718392938987, Best Cost: 0.3530293211866695\n",
      "____________________________________________________________________________________________________\n",
      "Iteration: 25, Cost: 0.8343462253836883, Best Cost: 0.3530293211866695\n",
      "____________________________________________________________________________________________________\n",
      "Iteration: 26, Cost: 0.8414041986120105, Best Cost: 0.3530293211866695\n",
      "____________________________________________________________________________________________________\n",
      "Iteration: 27, Cost: 0.5205454134897451, Best Cost: 0.3530293211866695\n",
      "____________________________________________________________________________________________________\n",
      "Iteration: 28, Cost: 0.7981283576497546, Best Cost: 0.3530293211866695\n",
      "____________________________________________________________________________________________________\n"
     ]
    }
   ],
   "source": [
    "for iteration in range(MAX_ITERATION):\n",
    "    # Generate a new set of parameters\n",
    "    new_parameters = current_parameters\n",
    "    for parameter in approximated_parameters:\n",
    "        new_parameters[parameter][\"value\"] += np.random.uniform(-optimize_range[parameter][0], optimize_range[parameter][0])\n",
    "        if new_parameters[parameter][\"value\"] <= 0:\n",
    "            new_parameters[parameter][\"value\"] = optimize_range[parameter][0]\n",
    "\n",
    "    # Calculate the cost of the new parameters\n",
    "    new_cost = cost_function(new_parameters, interpolated_datasets[:10])\n",
    "\n",
    "    # Calculate the acceptance probability\n",
    "    acceptance_probability  = 0.0\n",
    "    if new_cost < current_cost:\n",
    "        acceptance_probability = 1.0\n",
    "    else:\n",
    "        acceptance_probability = np.exp(-(new_cost - current_cost) / current_temperature)\n",
    "\n",
    "    # Accept or reject the new parameters\n",
    "    if acceptance_probability >= np.random.rand():\n",
    "        current_parameters = new_parameters\n",
    "        current_cost = new_cost\n",
    "\n",
    "    # Update the best parameters and cost\n",
    "    if current_cost < best_cost:\n",
    "        best_parameters = current_parameters\n",
    "        best_cost = current_cost\n",
    "        print(f\"Best Parameters:\", end=\" \")\n",
    "        for parameter in approximated_parameters:\n",
    "            print(f\"{parameter}: {best_parameters[parameter]['value']}\", end=\" | \")\n",
    "        print()\n",
    "\n",
    "    # Cooling the temperature\n",
    "    current_temperature *= COOLING_RATE\n",
    "    \n",
    "    print(f\"Iteration: {iteration}, Cost: {current_cost}, Best Cost: {best_cost}\")\n",
    "    print(\"_\" * 100)"
   ]
  },
  {
   "cell_type": "code",
   "execution_count": null,
   "metadata": {},
   "outputs": [],
   "source": [
    "# Save the best parameters to a JSON file\n",
    "with open(\"best_SA_optimized_parameters.json\", \"w\") as file:\n",
    "    json.dump(best_parameters, file, indent=4)"
   ]
  },
  {
   "cell_type": "markdown",
   "metadata": {},
   "source": [
    "## Gradient Descent"
   ]
  },
  {
   "cell_type": "markdown",
   "metadata": {},
   "source": [
    "### Define learning rate for each parameter"
   ]
  },
  {
   "cell_type": "code",
   "execution_count": null,
   "metadata": {},
   "outputs": [],
   "source": [
    "parameters_learning_rate = {}\n",
    "\n",
    "for parameter in optimize_range:\n",
    "    parameters_learning_rate[parameter] = min(optimize_range[parameter]) / 10\n",
    "\n",
    "print(\"Learning rate:\", parameters_learning_rate)\n",
    "\n",
    "# Create random value for each parameter within the specified range\n",
    "random_parameters = {}\n",
    "for parameter in optimize_range:\n",
    "    random_parameters[parameter] = np.random.uniform(\n",
    "        optimize_range[parameter][0], optimize_range[parameter][1]\n",
    "    )\n",
    "\n",
    "print(\"Initial value:\", random_parameters)"
   ]
  },
  {
   "cell_type": "code",
   "execution_count": null,
   "metadata": {},
   "outputs": [],
   "source": [
    "optimized_parameters = all_parameters\n",
    "\n",
    "for parameter in random_parameters:\n",
    "    optimized_parameters[parameter][\"value\"] = random_parameters[parameter]\n",
    "\n",
    "old_parameter = optimized_parameters"
   ]
  },
  {
   "cell_type": "code",
   "execution_count": null,
   "metadata": {},
   "outputs": [],
   "source": [
    "interpolated_array = [\n",
    "    value\n",
    "    for value in range(len(interpolated_datasets[i].values))\n",
    "    for i in range(len(interpolated_datasets))\n",
    "]\n",
    "dataframe_header = [column for column in interpolated_datasets[0].columns]\n",
    "\n",
    "print(\"Interpolated array shape:\", interpolated_array)\n",
    "print(\"Dataframe header:\", dataframe_header)"
   ]
  },
  {
   "cell_type": "markdown",
   "metadata": {},
   "source": [
    "#### Optimize Model Parameters with Gradient Descent Algoritm"
   ]
  },
  {
   "cell_type": "code",
   "execution_count": null,
   "metadata": {},
   "outputs": [],
   "source": [
    "# num_steps = len(interpolated_array[0])\n",
    "# input_voltages = {\n",
    "#     \"trolley_motor_voltage\": interpolated_array[4],\n",
    "#     \"hoist_motor_voltage\": interpolated_array[5],\n",
    "# }\n",
    "# variables_initial_conditions = {\n",
    "#     \"x\": interpolated_array[1][0],\n",
    "#     \"l\": interpolated_array[2][0],\n",
    "#     \"theta\": interpolated_array[3][0],\n",
    "# }\n",
    "# epoch = 0\n",
    "# count = 0\n",
    "# epochs = []\n",
    "# total_sum_root_mean_squared_errors_array = []\n",
    "# while epoch <= 2000:\n",
    "#     steps = 0\n",
    "#     total_sum_root_mean_squared_errors = 0\n",
    "#     for parameter in optimize_range:\n",
    "#         simulator.simulate(\n",
    "#             optimized_parameters, input_voltages, variables_initial_conditions\n",
    "#         )\n",
    "#         simulated_array = simulator.get_results()\n",
    "\n",
    "#         sum_root_mean_squared_errors = calculate_sum_root_mean_squared_errors(\n",
    "#             dataframe_header, interpolated_array, simulated_array\n",
    "#         )\n",
    "\n",
    "#         # Calculate the cost function derivative relative to parameter value\n",
    "#         h = 1e-6\n",
    "#         optimized_parameters[parameter][\"value\"] += h\n",
    "#         simulator.simulate(\n",
    "#             optimized_parameters, input_voltages, variables_initial_conditions\n",
    "#         )\n",
    "#         simulated_array_h = simulator.get_results()\n",
    "\n",
    "#         sum_root_mean_squared_errors_h = calculate_sum_root_mean_squared_errors(\n",
    "#             dataframe_header, interpolated_array, simulated_array_h\n",
    "#         )\n",
    "\n",
    "#         derivative = (sum_root_mean_squared_errors_h - sum_root_mean_squared_errors) / h\n",
    "\n",
    "#         # print(derivative)\n",
    "\n",
    "#         steps = parameters_learning_rate[parameter] * derivative\n",
    "#         optimized_parameters[parameter][\"steps\"] = steps\n",
    "#         optimized_parameters[parameter][\"value\"] -= steps\n",
    "\n",
    "#         # print(end=\"\\r\")\n",
    "#         # print(\n",
    "#         #     \"Parameter:\",\n",
    "#         #     parameter,\n",
    "#         #     \"| Value:\",\n",
    "#         #     optimized_parameters[parameter][\"value\"],\n",
    "#         #     \"| Loss:\",\n",
    "#         #     sum_root_mean_squared_errors,\n",
    "#         #     \"Step size:\",\n",
    "#         #     steps,\n",
    "#         #     end=\"\\r\",\n",
    "#         # )\n",
    "\n",
    "#         total_sum_root_mean_squared_errors += sum_root_mean_squared_errors\n",
    "\n",
    "#     count = 0\n",
    "#     for parameter in optimize_range:\n",
    "#         if abs(optimized_parameters[parameter][\"steps\"]) < 1e-6:\n",
    "#             count += 1\n",
    "\n",
    "#     print(\n",
    "#         \"Epoch:\",\n",
    "#         epoch,\n",
    "#         \"\\t| Total loss:\",\n",
    "#         round(total_sum_root_mean_squared_errors, 6),\n",
    "#         \"\\t| Converge count:\",\n",
    "#         count,\n",
    "#         end=\"\\r\",\n",
    "#     )\n",
    "\n",
    "#     if count == len(optimized_parameters):\n",
    "#         break\n",
    "\n",
    "#     epochs.append(epoch)\n",
    "#     total_sum_root_mean_squared_errors_array.append(total_sum_root_mean_squared_errors)\n",
    "\n",
    "#     epoch += 1"
   ]
  },
  {
   "cell_type": "code",
   "execution_count": null,
   "metadata": {},
   "outputs": [],
   "source": [
    "# plt.plot(epochs, total_sum_root_mean_squared_errors_array)\n",
    "# plt.show()"
   ]
  },
  {
   "cell_type": "code",
   "execution_count": null,
   "metadata": {},
   "outputs": [],
   "source": [
    "# json_string = json.dumps(optimized_parameters, indent=4)\n",
    "\n",
    "# # Step 3: Write the JSON string to a file\n",
    "# with open(\"optimized_parameter.json\", \"w\") as json_file:\n",
    "#     json_file.write(json_string)\n",
    "\n",
    "# for parameter in optimized_parameters:\n",
    "#     # print(parameter)\n",
    "#     if old_parameter[parameter][\"value\"] != optimized_parameters[parameter][\"value\"]:\n",
    "#         print(\"Old\", parameter, \"value:\", old_parameter[parameter][\"value\"])\n",
    "#         print(\"Old\", parameter, \"value:\", optimized_parameters[parameter][\"value\"])"
   ]
  },
  {
   "cell_type": "markdown",
   "metadata": {},
   "source": [
    "### Simulate Optimized Parameters and Compare to Real Data"
   ]
  },
  {
   "cell_type": "code",
   "execution_count": null,
   "metadata": {},
   "outputs": [],
   "source": [
    "# num_steps = len(interpolated_array[0])\n",
    "# input_voltages = {\n",
    "#     \"trolley_motor_voltage\": interpolated_array[4],\n",
    "#     \"hoist_motor_voltage\": interpolated_array[5],\n",
    "# }\n",
    "# variables_initial_conditions = {\n",
    "#     \"x\": interpolated_array[1][0],\n",
    "#     \"l\": interpolated_array[2][0],\n",
    "#     \"theta\": interpolated_array[3][0],\n",
    "# }\n",
    "# simulator.simulate(all_parameters, input_voltages, variables_initial_conditions)\n",
    "\n",
    "# simulated_array = simulator.get_results_for_optimization()\n",
    "# for i in range(1, len(dataframe_header)):\n",
    "#     y1 = np.array(interpolated_array[i])\n",
    "#     y2 = np.array(simulated_array[i])\n",
    "\n",
    "#     plt.plot(time_array, y1, label=f\"Interpolated {dataframe_header[i]}\")\n",
    "#     plt.plot(time_array, y2, label=f\"Simulated {dataframe_header[i]}\")\n",
    "#     plt.legend()\n",
    "#     plt.show()"
   ]
  }
 ],
 "metadata": {
  "kernelspec": {
   "display_name": ".venv",
   "language": "python",
   "name": "python3"
  },
  "language_info": {
   "codemirror_mode": {
    "name": "ipython",
    "version": 3
   },
   "file_extension": ".py",
   "mimetype": "text/x-python",
   "name": "python",
   "nbconvert_exporter": "python",
   "pygments_lexer": "ipython3",
   "version": "3.10.12"
  }
 },
 "nbformat": 4,
 "nbformat_minor": 2
}
